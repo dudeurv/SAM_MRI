{
  "nbformat": 4,
  "nbformat_minor": 0,
  "metadata": {
    "colab": {
      "provenance": [],
      "include_colab_link": true
    },
    "kernelspec": {
      "name": "python3",
      "display_name": "Python 3"
    },
    "language_info": {
      "name": "python"
    }
  },
  "cells": [
    {
      "cell_type": "markdown",
      "metadata": {
        "id": "view-in-github",
        "colab_type": "text"
      },
      "source": [
        "<a href=\"https://colab.research.google.com/github/dudeurv/SAM_MRI/blob/main/mri_classes_to_two.ipynb\" target=\"_parent\"><img src=\"https://colab.research.google.com/assets/colab-badge.svg\" alt=\"Open In Colab\"/></a>"
      ]
    },
    {
      "cell_type": "code",
      "source": [
        "!pip -q install nilearn nibabel SimpleITK"
      ],
      "metadata": {
        "id": "ZHdGTXOvOtpg"
      },
      "execution_count": null,
      "outputs": []
    },
    {
      "cell_type": "code",
      "execution_count": null,
      "metadata": {
        "colab": {
          "base_uri": "https://localhost:8080/"
        },
        "id": "LNYcKrD6Nk9x",
        "outputId": "880d9931-1378-4b98-f4e3-26387da2aecc"
      },
      "outputs": [
        {
          "output_type": "stream",
          "name": "stdout",
          "text": [
            "Drive already mounted at /content/drive; to attempt to forcibly remount, call drive.mount(\"/content/drive\", force_remount=True).\n"
          ]
        }
      ],
      "source": [
        "# Mount Google Drive\n",
        "from google.colab import drive\n",
        "drive.mount('/content/drive')"
      ]
    },
    {
      "cell_type": "code",
      "source": [
        "# Part 1: Setup\n",
        "import os\n",
        "import zipfile\n",
        "import SimpleITK as sitk\n",
        "import numpy as np\n",
        "import nibabel as nib\n",
        "import gdown\n",
        "\n",
        "# Part 2: Data Preparation\n",
        "base_path = '/content/drive/MyDrive/endonasal_mri_new'  # Change to the path of your folder\n",
        "output_folder = '/content/drive/MyDrive/endonasal_mri_new/processed_mri_images'  # Change to your desired output folder path\n",
        "\n",
        "os.makedirs(output_folder, exist_ok=True)  # Create the output folder\n",
        "\n",
        "# Part 3: Processing Functions\n",
        "def process_mri_with_itk(mri_folder, output_folder):\n",
        "    ica_path = os.path.join(mri_folder, f\"{os.path.basename(mri_folder)}_ICAs.nii.gz\")\n",
        "    pituitary_tumour_path = os.path.join(mri_folder, f\"{os.path.basename(mri_folder)}_PituitaryAndTumour.nii.gz\")\n",
        "\n",
        "    # Load images\n",
        "    ica_img = sitk.ReadImage(ica_path)\n",
        "    pituitary_tumour_img = sitk.ReadImage(pituitary_tumour_path)\n",
        "\n",
        "    # Convert to arrays for processing\n",
        "    ica_array = sitk.GetArrayFromImage(ica_img)\n",
        "    pituitary_tumour_array = sitk.GetArrayFromImage(pituitary_tumour_img)\n",
        "\n",
        "    # Reassign the class of ICA from 1 to 2 and combine ICAs with PituitaryAndTumour\n",
        "    ica_array[ica_array == 1] = 2\n",
        "    combined_array = ica_array + pituitary_tumour_array\n",
        "\n",
        "    # Now explicitly reassign any third class as the second class if necessary\n",
        "    combined_array[combined_array == 3] = 2\n",
        "\n",
        "    # Convert array back to image and save\n",
        "    combined_img = sitk.GetImageFromArray(combined_array)\n",
        "    combined_img.CopyInformation(ica_img)\n",
        "    output_path = os.path.join(output_folder, f\"{mri_folder}_combined.nii.gz\")\n",
        "    sitk.WriteImage(combined_img, output_path)\n",
        "\n",
        "    # Checking unique classes for debugging\n",
        "    unique_classes = np.unique(combined_array)\n",
        "    print(f\"Unique classes in {os.path.basename(mri_folder)} combined image: {unique_classes}\")\n",
        "\n",
        "def process_anatomical_mask_with_itk(mask_path, output_folder):\n",
        "    # Adjust mask_path to include base_path\n",
        "    mask_path = os.path.join(base_path, mask_path)\n",
        "    # Load the mask image\n",
        "    mask_img = sitk.ReadImage(mask_path)\n",
        "    mask_array = sitk.GetArrayFromImage(mask_img)\n",
        "\n",
        "    # Remove class 2 and reassign class 3 to 2\n",
        "    mask_array[mask_array == 2] = 0\n",
        "    mask_array[mask_array == 3] = 2\n",
        "\n",
        "    # Save the modified mask\n",
        "    modified_mask_img = sitk.GetImageFromArray(mask_array)\n",
        "    modified_mask_img.CopyInformation(mask_img)\n",
        "    output_path = os.path.join(output_folder, 'mri0010_modified_anatomical_mask.nii.gz')\n",
        "    sitk.WriteImage(modified_mask_img, output_path)\n",
        "\n",
        "\n",
        "# Part 4: Execution - Go through the files in the Google Drive folder\n",
        "for i in range(1, 11):  # Assuming 10 MRI folders (adjust range if different)\n",
        "    mri_folder = f\"mri000{i}\" if i < 10 else f\"mri00{i}\"\n",
        "    full_mri_path = os.path.join(base_path, mri_folder)  # Adjusted to correct folder structure\n",
        "\n",
        "    # Check if it's the special case of mri0010\n",
        "    if i == 10:\n",
        "        mask_path = os.path.join(full_mri_path, f'{mri_folder}_anatomical_mask.nii.gz')  # Adjust for the correct file\n",
        "        process_anatomical_mask_with_itk(mask_path, output_folder)\n",
        "    else:\n",
        "        # Process regular MRI folder\n",
        "        process_mri_with_itk(full_mri_path, output_folder)\n",
        "print(f\"Processed files are saved in {output_folder}\")\n"
      ],
      "metadata": {
        "colab": {
          "base_uri": "https://localhost:8080/"
        },
        "id": "xO_EIgUBN3E-",
        "outputId": "4962ca25-b9d8-40ed-88d1-188b80819ac0"
      },
      "execution_count": null,
      "outputs": [
        {
          "output_type": "stream",
          "name": "stdout",
          "text": [
            "Unique classes in mri0001 combined image: [0 1 2]\n",
            "Unique classes in mri0002 combined image: [0 1 2]\n",
            "Unique classes in mri0003 combined image: [0 1 2]\n",
            "Unique classes in mri0004 combined image: [0 1 2]\n",
            "Unique classes in mri0005 combined image: [0 1 2]\n",
            "Unique classes in mri0006 combined image: [0 1 2]\n",
            "Unique classes in mri0007 combined image: [0 1 2]\n",
            "Unique classes in mri0008 combined image: [0 1 2]\n",
            "Unique classes in mri0009 combined image: [0 1 2]\n",
            "Processed files are saved in /content/drive/MyDrive/endonasal_mri_new/processed_mri_images\n"
          ]
        }
      ]
    }
  ]
}