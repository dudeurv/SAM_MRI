{
  "nbformat": 4,
  "nbformat_minor": 0,
  "metadata": {
    "colab": {
      "provenance": [],
      "include_colab_link": true
    },
    "kernelspec": {
      "name": "python3",
      "display_name": "Python 3"
    },
    "language_info": {
      "name": "python"
    }
  },
  "cells": [
    {
      "cell_type": "markdown",
      "metadata": {
        "id": "view-in-github",
        "colab_type": "text"
      },
      "source": [
        "<a href=\"https://colab.research.google.com/github/dudeurv/SAM_MRI/blob/main/mri_classes_to_two.ipynb\" target=\"_parent\"><img src=\"https://colab.research.google.com/assets/colab-badge.svg\" alt=\"Open In Colab\"/></a>"
      ]
    },
    {
      "cell_type": "code",
      "source": [
        "!pip -q install nilearn nibabel SimpleITK"
      ],
      "metadata": {
        "id": "ZHdGTXOvOtpg",
        "colab": {
          "base_uri": "https://localhost:8080/"
        },
        "outputId": "41498a16-1b30-4fe2-d186-08ab1bfa9a00"
      },
      "execution_count": 1,
      "outputs": [
        {
          "output_type": "stream",
          "name": "stdout",
          "text": [
            "\u001b[2K     \u001b[90m━━━━━━━━━━━━━━━━━━━━━━━━━━━━━━━━━━━━━━━━\u001b[0m \u001b[32m10.4/10.4 MB\u001b[0m \u001b[31m34.1 MB/s\u001b[0m eta \u001b[36m0:00:00\u001b[0m\n",
            "\u001b[2K     \u001b[90m━━━━━━━━━━━━━━━━━━━━━━━━━━━━━━━━━━━━━━━━\u001b[0m \u001b[32m52.7/52.7 MB\u001b[0m \u001b[31m6.5 MB/s\u001b[0m eta \u001b[36m0:00:00\u001b[0m\n",
            "\u001b[?25h"
          ]
        }
      ]
    },
    {
      "cell_type": "code",
      "source": [
        "# Part 1: Setup\n",
        "import os\n",
        "import zipfile\n",
        "import SimpleITK as sitk\n",
        "import numpy as np\n",
        "import nibabel as nib\n",
        "import gdown\n",
        "import shutil\n",
        "\n",
        "\n",
        "# Part 2: Data Preparation\n",
        "# Download the dataset\n",
        "!gdown https://drive.google.com/uc?id=1m6hLiI9N8n9lUPT2RIuOHHFAPfaQb7hk\n",
        "\n",
        "# Unzip the dataset\n",
        "with zipfile.ZipFile('endonasal_mri_final.zip', 'r') as zip_ref:\n",
        "    zip_ref.extractall()\n",
        "\n",
        "base_path = '/content/endonasal_mri_new'\n",
        "output_folder = '/content/endonasal_mri_new'\n",
        "\n",
        "os.makedirs(output_folder, exist_ok=True)\n",
        "\n",
        "# Part 3: Processing Functions\n",
        "def process_mri_with_itk(mri_folder):\n",
        "    ica_path = os.path.join(mri_folder, f\"{os.path.basename(mri_folder)}_ICAs.nii.gz\")\n",
        "    pituitary_tumour_path = os.path.join(mri_folder, f\"{os.path.basename(mri_folder)}_PituitaryAndTumour.nii.gz\")\n",
        "\n",
        "    # Load images\n",
        "    ica_img = sitk.ReadImage(ica_path)\n",
        "    pituitary_tumour_img = sitk.ReadImage(pituitary_tumour_path)\n",
        "\n",
        "    # Convert to arrays for processing\n",
        "    ica_array = sitk.GetArrayFromImage(ica_img)\n",
        "    pituitary_tumour_array = sitk.GetArrayFromImage(pituitary_tumour_img)\n",
        "\n",
        "    # Reassign the class of ICA from 1 to 2 and combine ICAs with PituitaryAndTumour\n",
        "    ica_array[ica_array == 1] = 2\n",
        "    combined_array = ica_array + pituitary_tumour_array\n",
        "\n",
        "    # Now explicitly reassign any third class as the second class if necessary\n",
        "    combined_array[combined_array == 3] = 2\n",
        "\n",
        "    # Convert array back to image and save\n",
        "    combined_img = sitk.GetImageFromArray(combined_array)\n",
        "    combined_img.CopyInformation(ica_img)\n",
        "    output_path = os.path.join(mri_folder, f\"{os.path.basename(mri_folder)}_mask.nii.gz\")\n",
        "    sitk.WriteImage(combined_img, output_path)\n",
        "\n",
        "    # Remove old masks\n",
        "    os.remove(ica_path)\n",
        "    os.remove(pituitary_tumour_path)\n",
        "\n",
        "    # Checking unique classes for debugging\n",
        "    unique_classes = np.unique(combined_array)\n",
        "    print(f\"Unique classes in {os.path.basename(mri_folder)} combined image: {unique_classes}\")\n",
        "\n",
        "def process_anatomical_mask_with_itk(mask_path, mri_folder):\n",
        "    # Adjust mask_path to include base_path\n",
        "    mask_path = os.path.join(base_path, mask_path)\n",
        "\n",
        "    # Convert from nrrd to nii.gz\n",
        "    %cd /content/endonasal_mri_new/mri0010\n",
        "    img = nib.load('mri0010_registered_mask.nrrd')\n",
        "    mri_mask = img.get_fdata()\n",
        "    img_nifti = nib.Nifti1Image(mri_mask, img.affine, header=img.header)\n",
        "    nib.save(img_nifti, 'mri0010_registered_mask.nii.gz')\n",
        "\n",
        "    mask_path = mask_path.replace('.nrrd', '.nii.gz')  # Change extension to .nii.gz\n",
        "\n",
        "    %cd -\n",
        "\n",
        "    # Load the mask image\n",
        "    mask_img = sitk.ReadImage(mask_path)\n",
        "    mask_array = sitk.GetArrayFromImage(mask_img)\n",
        "\n",
        "    # Remove class 2 and reassign class 3 to 2\n",
        "    mask_array[mask_array == 2] = 0\n",
        "    mask_array[mask_array == 3] = 2\n",
        "\n",
        "    # Save the modified mask\n",
        "    modified_mask_img = sitk.GetImageFromArray(mask_array)\n",
        "    modified_mask_img.CopyInformation(mask_img)\n",
        "    output_path = os.path.join(mri_folder, 'mri0010_mask.nii.gz')\n",
        "    sitk.WriteImage(modified_mask_img, output_path)\n",
        "\n",
        "    unique_classes = np.unique(mask_array)\n",
        "    print(f\"Unique classes in {os.path.basename(mri_folder)} combined image: {unique_classes}\")\n",
        "\n",
        "    # Remove old mask\n",
        "    os.remove(mask_path)\n",
        "\n",
        "# Part 4: Execution - Go through the files in the Google Drive folder\n",
        "for i in range(1, 11):  # Assuming 10 MRI folders (adjust range if different)\n",
        "    mri_folder = f\"mri000{i}\" if i < 10 else f\"mri00{i}\"\n",
        "    full_mri_path = os.path.join(base_path, mri_folder)  # Adjusted to correct folder structure\n",
        "\n",
        "    # Check if it's the special case of mri0010\n",
        "    if i == 10:\n",
        "        mask_path = os.path.join(full_mri_path, f'{mri_folder}_registered_mask.nrrd')  # Adjust for the correct file\n",
        "        process_anatomical_mask_with_itk(mask_path, full_mri_path)\n",
        "    else:\n",
        "        # Process regular MRI folder\n",
        "        process_mri_with_itk(full_mri_path)\n",
        "\n",
        "# Part 5: Zip and Download Processed Images\n",
        "zip_path = '/content/endonasal_mri_new.zip'\n",
        "with zipfile.ZipFile(zip_path, 'w') as zip_f:\n",
        "    for foldername, subfolders, filenames in os.walk(output_folder):\n",
        "        for filename in filenames:\n",
        "            file_path = os.path.join(foldername, filename)\n",
        "            zip_f.write(file_path, os.path.relpath(file_path, output_folder))\n",
        "\n",
        "print(f\"Processed files are saved and zipped in {zip_path}\")"
      ],
      "metadata": {
        "colab": {
          "base_uri": "https://localhost:8080/",
          "height": 792
        },
        "id": "xO_EIgUBN3E-",
        "outputId": "33a2ede2-878f-4617-9746-69965ffdc7f2"
      },
      "execution_count": 2,
      "outputs": [
        {
          "output_type": "stream",
          "name": "stdout",
          "text": [
            "Downloading...\n",
            "From: https://drive.google.com/uc?id=1m6hLiI9N8n9lUPT2RIuOHHFAPfaQb7hk\n",
            "To: /content/endonasal_mri_final.zip\n",
            "100% 355M/355M [00:08<00:00, 41.3MB/s]\n",
            "Unique classes in mri0001 combined image: [0 1 2]\n",
            "Unique classes in mri0002 combined image: [0 1 2]\n",
            "Unique classes in mri0003 combined image: [0 1 2]\n",
            "Unique classes in mri0004 combined image: [0 1 2]\n",
            "Unique classes in mri0005 combined image: [0 1 2]\n",
            "Unique classes in mri0006 combined image: [0 1 2]\n",
            "Unique classes in mri0007 combined image: [0 1 2]\n",
            "Unique classes in mri0008 combined image: [0 1 2]\n",
            "Unique classes in mri0009 combined image: [0 1 2]\n",
            "/content/endonasal_mri_new/mri0010\n"
          ]
        },
        {
          "output_type": "error",
          "ename": "ImageFileError",
          "evalue": "ignored",
          "traceback": [
            "\u001b[0;31m---------------------------------------------------------------------------\u001b[0m",
            "\u001b[0;31mImageFileError\u001b[0m                            Traceback (most recent call last)",
            "\u001b[0;32m<ipython-input-2-49fb1707e886>\u001b[0m in \u001b[0;36m<cell line: 94>\u001b[0;34m()\u001b[0m\n\u001b[1;32m     99\u001b[0m     \u001b[0;32mif\u001b[0m \u001b[0mi\u001b[0m \u001b[0;34m==\u001b[0m \u001b[0;36m10\u001b[0m\u001b[0;34m:\u001b[0m\u001b[0;34m\u001b[0m\u001b[0;34m\u001b[0m\u001b[0m\n\u001b[1;32m    100\u001b[0m         \u001b[0mmask_path\u001b[0m \u001b[0;34m=\u001b[0m \u001b[0mos\u001b[0m\u001b[0;34m.\u001b[0m\u001b[0mpath\u001b[0m\u001b[0;34m.\u001b[0m\u001b[0mjoin\u001b[0m\u001b[0;34m(\u001b[0m\u001b[0mfull_mri_path\u001b[0m\u001b[0;34m,\u001b[0m \u001b[0;34mf'{mri_folder}_registered_mask.nrrd'\u001b[0m\u001b[0;34m)\u001b[0m  \u001b[0;31m# Adjust for the correct file\u001b[0m\u001b[0;34m\u001b[0m\u001b[0;34m\u001b[0m\u001b[0m\n\u001b[0;32m--> 101\u001b[0;31m         \u001b[0mprocess_anatomical_mask_with_itk\u001b[0m\u001b[0;34m(\u001b[0m\u001b[0mmask_path\u001b[0m\u001b[0;34m,\u001b[0m \u001b[0mfull_mri_path\u001b[0m\u001b[0;34m)\u001b[0m\u001b[0;34m\u001b[0m\u001b[0;34m\u001b[0m\u001b[0m\n\u001b[0m\u001b[1;32m    102\u001b[0m     \u001b[0;32melse\u001b[0m\u001b[0;34m:\u001b[0m\u001b[0;34m\u001b[0m\u001b[0;34m\u001b[0m\u001b[0m\n\u001b[1;32m    103\u001b[0m         \u001b[0;31m# Process regular MRI folder\u001b[0m\u001b[0;34m\u001b[0m\u001b[0;34m\u001b[0m\u001b[0m\n",
            "\u001b[0;32m<ipython-input-2-49fb1707e886>\u001b[0m in \u001b[0;36mprocess_anatomical_mask_with_itk\u001b[0;34m(mask_path, mri_folder)\u001b[0m\n\u001b[1;32m     62\u001b[0m     \u001b[0;31m# Convert from nrrd to nii.gz\u001b[0m\u001b[0;34m\u001b[0m\u001b[0;34m\u001b[0m\u001b[0m\n\u001b[1;32m     63\u001b[0m     \u001b[0mget_ipython\u001b[0m\u001b[0;34m(\u001b[0m\u001b[0;34m)\u001b[0m\u001b[0;34m.\u001b[0m\u001b[0mrun_line_magic\u001b[0m\u001b[0;34m(\u001b[0m\u001b[0;34m'cd'\u001b[0m\u001b[0;34m,\u001b[0m \u001b[0;34m'/content/endonasal_mri_new/mri0010'\u001b[0m\u001b[0;34m)\u001b[0m\u001b[0;34m\u001b[0m\u001b[0;34m\u001b[0m\u001b[0m\n\u001b[0;32m---> 64\u001b[0;31m     \u001b[0mimg\u001b[0m \u001b[0;34m=\u001b[0m \u001b[0mnib\u001b[0m\u001b[0;34m.\u001b[0m\u001b[0mload\u001b[0m\u001b[0;34m(\u001b[0m\u001b[0;34m'mri0010_registered_mask.nrrd'\u001b[0m\u001b[0;34m)\u001b[0m\u001b[0;34m\u001b[0m\u001b[0;34m\u001b[0m\u001b[0m\n\u001b[0m\u001b[1;32m     65\u001b[0m     \u001b[0mmri_mask\u001b[0m \u001b[0;34m=\u001b[0m \u001b[0mimg\u001b[0m\u001b[0;34m.\u001b[0m\u001b[0mget_fdata\u001b[0m\u001b[0;34m(\u001b[0m\u001b[0;34m)\u001b[0m\u001b[0;34m\u001b[0m\u001b[0;34m\u001b[0m\u001b[0m\n\u001b[1;32m     66\u001b[0m     \u001b[0mimg_nifti\u001b[0m \u001b[0;34m=\u001b[0m \u001b[0mnib\u001b[0m\u001b[0;34m.\u001b[0m\u001b[0mNifti1Image\u001b[0m\u001b[0;34m(\u001b[0m\u001b[0mmri_mask\u001b[0m\u001b[0;34m,\u001b[0m \u001b[0mimg\u001b[0m\u001b[0;34m.\u001b[0m\u001b[0maffine\u001b[0m\u001b[0;34m,\u001b[0m \u001b[0mheader\u001b[0m\u001b[0;34m=\u001b[0m\u001b[0mimg\u001b[0m\u001b[0;34m.\u001b[0m\u001b[0mheader\u001b[0m\u001b[0;34m)\u001b[0m\u001b[0;34m\u001b[0m\u001b[0;34m\u001b[0m\u001b[0m\n",
            "\u001b[0;32m/usr/local/lib/python3.10/dist-packages/nibabel/loadsave.py\u001b[0m in \u001b[0;36mload\u001b[0;34m(filename, **kwargs)\u001b[0m\n\u001b[1;32m    105\u001b[0m         \u001b[0;32mraise\u001b[0m \u001b[0mImageFileError\u001b[0m\u001b[0;34m(\u001b[0m\u001b[0mmsg\u001b[0m\u001b[0;34m)\u001b[0m\u001b[0;34m\u001b[0m\u001b[0;34m\u001b[0m\u001b[0m\n\u001b[1;32m    106\u001b[0m \u001b[0;34m\u001b[0m\u001b[0m\n\u001b[0;32m--> 107\u001b[0;31m     \u001b[0;32mraise\u001b[0m \u001b[0mImageFileError\u001b[0m\u001b[0;34m(\u001b[0m\u001b[0;34mf'Cannot work out file type of \"{filename}\"'\u001b[0m\u001b[0;34m)\u001b[0m\u001b[0;34m\u001b[0m\u001b[0;34m\u001b[0m\u001b[0m\n\u001b[0m\u001b[1;32m    108\u001b[0m \u001b[0;34m\u001b[0m\u001b[0m\n\u001b[1;32m    109\u001b[0m \u001b[0;34m\u001b[0m\u001b[0m\n",
            "\u001b[0;31mImageFileError\u001b[0m: Cannot work out file type of \"mri0010_registered_mask.nrrd\""
          ]
        }
      ]
    },
    {
      "cell_type": "code",
      "source": [
        "# Delete any folders if needed\n",
        "folder_path = input(\"Write a folder path, e.g. '/content/endonasal_mri_new': \")\n",
        "shutil.rmtree(folder_path)\n",
        "print(f\"Successfully deleted folder: {folder_path}\")"
      ],
      "metadata": {
        "colab": {
          "base_uri": "https://localhost:8080/"
        },
        "id": "IC5rpT4kw5VP",
        "outputId": "bfdbb54c-aac7-4fb8-806a-fb267486087c"
      },
      "execution_count": 3,
      "outputs": [
        {
          "output_type": "stream",
          "name": "stdout",
          "text": [
            "Write a folder path, e.g. '/content/endonasal_mri_new': /content/endonasal_mri_new\n",
            "Successfully deleted folder: /content/endonasal_mri_new\n"
          ]
        }
      ]
    }
  ]
}