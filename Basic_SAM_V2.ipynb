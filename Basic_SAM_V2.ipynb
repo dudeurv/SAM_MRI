{
  "nbformat": 4,
  "nbformat_minor": 0,
  "metadata": {
    "colab": {
      "provenance": [],
      "gpuType": "T4",
      "include_colab_link": true
    },
    "kernelspec": {
      "name": "python3",
      "display_name": "Python 3"
    },
    "language_info": {
      "name": "python"
    },
    "accelerator": "GPU"
  },
  "cells": [
    {
      "cell_type": "markdown",
      "metadata": {
        "id": "view-in-github",
        "colab_type": "text"
      },
      "source": [
        "<a href=\"https://colab.research.google.com/github/dudeurv/SAM_MRI/blob/main/Basic_SAM_V2.ipynb\" target=\"_parent\"><img src=\"https://colab.research.google.com/assets/colab-badge.svg\" alt=\"Open In Colab\"/></a>"
      ]
    },
    {
      "cell_type": "markdown",
      "source": [
        "# Exploring Image Segmentation with SAM Models\n",
        "\n",
        "**SAM with 'vit_b' Configuration:**\n",
        "\n",
        "\n",
        "This version of SAM includes 12 multihead attention (MHA) blocks.\n",
        "MHAs allow the model to focus on distinct segments of an image, making the 'vit_b' model well-suited for general segmentation tasks.\n",
        "\n",
        "Model Download Link: !wget https://dl.fbaipublicfiles.com/segment_anything/sam_vit_b_01ec64.pth\n",
        "\n",
        "**SAM with 'vit_l' Configuration:**\n",
        "\n",
        "The 'vit_l' model is more advanced, comprising 24 MHA blocks.\n",
        "It is designed for more complex images, where detailed and refined segmentation is needed.\n",
        "\n",
        "Model Download Link: !wget https://dl.fbaipublicfiles.com/segment_anything/sam_vit_l_0b3195.pth\n",
        "\n",
        "**SAM with 'vit_h' Configuration:**\n",
        "\n",
        "The 'vit_h' configuration is the most sophisticated among the three, equipped with 32 MHA blocks.\n",
        "It excels in segmenting highly complex images with intricate details.\n",
        "\n",
        "Model Download Link: !wget https://dl.fbaipublicfiles.com/segment_anything/sam_vit_h_4b8939.pth\n",
        "\n",
        "\n",
        "**Customizing or debugging the SAM models:**\n",
        "\n",
        "You can edit the source code in the following files within the SAM library:\n",
        "\n",
        "For the Image Encoder: /usr/local/lib/python3.10/dist-packages/segment_anything/modeling/image_encoder.py\n",
        "For the SAM Model itself: /usr/local/lib/python3.10/dist-packages/segment_anything/modeling/sam.py"
      ],
      "metadata": {
        "id": "N_NpxyKHUWDd"
      }
    },
    {
      "cell_type": "markdown",
      "source": [
        "# 1) Download Image and SAM Model"
      ],
      "metadata": {
        "id": "iInW9490hcJQ"
      }
    },
    {
      "cell_type": "code",
      "source": [
        "import gdown\n",
        "\n",
        "# Download a specific image for testing using gdown\n",
        "import gdown\n",
        "url = 'https://drive.google.com/uc?id=1ycUjt29WI4VjK6grZnQXYdzdEuMhpqNA'\n",
        "gdown.download(url, 'raw_img.jpg', quiet=True)\n",
        "\n",
        "# Install the SAM library from Facebook Research\n",
        "!pip -q install 'git+https://github.com/facebookresearch/segment-anything.git'\n",
        "\n",
        "# Download the pre-trained SAM model for the 'vit_b' configuration\n",
        "!wget https://dl.fbaipublicfiles.com/segment_anything/sam_vit_b_01ec64.pth"
      ],
      "metadata": {
        "colab": {
          "base_uri": "https://localhost:8080/"
        },
        "id": "_ziVrj6ETuzm",
        "outputId": "daffccba-0156-4316-cd1a-30e4dcd11129"
      },
      "execution_count": 3,
      "outputs": [
        {
          "output_type": "stream",
          "name": "stdout",
          "text": [
            "  Preparing metadata (setup.py) ... \u001b[?25l\u001b[?25hdone\n",
            "--2023-11-23 00:46:19--  https://dl.fbaipublicfiles.com/segment_anything/sam_vit_b_01ec64.pth\n",
            "Resolving dl.fbaipublicfiles.com (dl.fbaipublicfiles.com)... 52.84.251.114, 52.84.251.106, 52.84.251.15, ...\n",
            "Connecting to dl.fbaipublicfiles.com (dl.fbaipublicfiles.com)|52.84.251.114|:443... connected.\n",
            "HTTP request sent, awaiting response... 200 OK\n",
            "Length: 375042383 (358M) [binary/octet-stream]\n",
            "Saving to: ‘sam_vit_b_01ec64.pth.1’\n",
            "\n",
            "sam_vit_b_01ec64.pt 100%[===================>] 357.67M   221MB/s    in 1.6s    \n",
            "\n",
            "2023-11-23 00:46:21 (221 MB/s) - ‘sam_vit_b_01ec64.pth.1’ saved [375042383/375042383]\n",
            "\n"
          ]
        }
      ]
    },
    {
      "cell_type": "markdown",
      "source": [
        "# 2) Setting up SAM & Segmenting Image"
      ],
      "metadata": {
        "id": "fhoTnA6mlLUL"
      }
    },
    {
      "cell_type": "code",
      "source": [
        "import torch\n",
        "from segment_anything import sam_model_registry, SamAutomaticMaskGenerator, SamPredictor\n",
        "from PIL import Image\n",
        "import numpy as np\n",
        "\n",
        "\n",
        "# Check if CUDA (GPU support) is available for PyTorch, use CPU otherwise\n",
        "device = 'cuda' if torch.cuda.is_available() else 'cpu'\n",
        "\n",
        "# Load the SAM model with the specified model type and checkpoint, set it to the selected device\n",
        "sam = sam_model_registry[\"vit_b\"](checkpoint=\"/content/sam_vit_b_01ec64.pth\").to(device)\n",
        "\n",
        "# Initialize the automatic mask generator with the SAM model\n",
        "mask_generator = SamAutomaticMaskGenerator(sam)\n",
        "\n",
        "# Load the downloaded image using PIL and convert it to a numpy array\n",
        "raw_img = Image.open('/content/raw_img.jpg')\n",
        "image = np.array(raw_img)\n",
        "\n",
        "# Generate segmentation masks for the image using the SAM model\n",
        "masks = mask_generator.generate(image)\n",
        "\n",
        "# Print the structure of the first mask to understand its format\n",
        "print(masks[0].keys())"
      ],
      "metadata": {
        "colab": {
          "base_uri": "https://localhost:8080/"
        },
        "id": "jn_2YQc0T6px",
        "outputId": "34033ad7-03fd-499b-942f-9157e01a3121"
      },
      "execution_count": 4,
      "outputs": [
        {
          "output_type": "stream",
          "name": "stdout",
          "text": [
            "dict_keys(['segmentation', 'area', 'bbox', 'predicted_iou', 'point_coords', 'stability_score', 'crop_box'])\n"
          ]
        }
      ]
    },
    {
      "cell_type": "markdown",
      "source": [
        "# 3) Visualise Results"
      ],
      "metadata": {
        "id": "W6O6MXzAl1XM"
      }
    },
    {
      "cell_type": "code",
      "source": [
        "import matplotlib.pyplot as plt\n",
        "\n",
        "num_img = len(masks)\n",
        "num_img = 10\n",
        "fig, ax = plt.subplots(1, num_img, figsize=(1.5*num_img,7), subplot_kw=dict(xticks=[],yticks=[]))\n",
        "ax[0].imshow(image)\n",
        "ax[0].set_title('Input')\n",
        "for i in range(num_img - 1):\n",
        "    ax[i+1].imshow(masks[i]['segmentation'])\n",
        "    ax[i+1].set_title('Pred-{}'.format(i))"
      ],
      "metadata": {
        "colab": {
          "base_uri": "https://localhost:8080/",
          "height": 138
        },
        "id": "SVrHh8DhUCBY",
        "outputId": "5efef446-e34c-46d3-cf36-6db1393c7411"
      },
      "execution_count": 5,
      "outputs": [
        {
          "output_type": "display_data",
          "data": {
            "text/plain": [
              "<Figure size 1500x700 with 10 Axes>"
            ],
            "image/png": "[encoded data removed]"
          },
          "metadata": {}
        }
      ]
    },
    {
      "cell_type": "markdown",
      "source": [
        "# 4) Further options\n",
        "\n",
        "# Using the SAM Encoder for Downstream Tasks\n",
        "\n",
        "The encoder part of the SAM model processes the image and extracts a high-level representation or features from it.\n",
        "\n",
        "**Output:** Instead of segmentation masks, the encoder's output is a feature map or a tensor that encapsulates the important aspects of the image in a more abstract form.\n",
        "\n",
        "**What is the purpose of this?**\n",
        "\n",
        "**Downstream Machine Learning Tasks:** Such as input to other models for classification, clustering, or further analysis.\n",
        "\n",
        "**Reducing Image Complexity:** Simplifying images into a form that's easier to analyze or process.\n",
        "\n",
        "**Transfer Learning:** Using the learned features in one context and applying them to another problem or model."
      ],
      "metadata": {
        "id": "RFUUPxFah7TL"
      }
    },
    {
      "cell_type": "code",
      "source": [
        "# Import the transforms module from torchvision\n",
        "from torchvision import transforms\n",
        "\n",
        "def main():\n",
        "    # Access the SAM model's image encoder\n",
        "    sam_encoder = sam.image_encoder\n",
        "\n",
        "    # Apply the transformations to the image and move it to CUDA if available\n",
        "    img = preprocess(raw_img)[None].cuda()\n",
        "\n",
        "    # Pass the transformed image through the SAM encoder\n",
        "    encoder_out = sam_encoder(img)\n",
        "    print(encoder_out.shape)\n",
        "\n",
        "def preprocess(the_image):\n",
        "    # Define the mean and standard deviation for normalization (to standardize the values of an image's pixels)\n",
        "    # These specific values are standard in image processing, often used for models trained on the ImageNet dataset.\n",
        "    mean, std = torch.tensor([0.485, 0.456, 0.406]), torch.tensor([0.229, 0.224, 0.225])\n",
        "\n",
        "    # Define the transformation pipeline for the image\n",
        "    transform = transforms.Compose([transforms.Resize((1024, 1024)),\n",
        "                                    transforms.ToTensor(),\n",
        "                                    transforms.Normalize(mean=mean, std=std)])\n",
        "    return transform(the_image)\n",
        "\n",
        "# Execute the main function\n",
        "main()"
      ],
      "metadata": {
        "id": "qfSvNQ_cWbk5",
        "outputId": "4ed63456-3163-4953-aa6b-4025d043c539",
        "colab": {
          "base_uri": "https://localhost:8080/"
        }
      },
      "execution_count": 9,
      "outputs": [
        {
          "output_type": "stream",
          "name": "stdout",
          "text": [
            "torch.Size([1, 256, 64, 64])\n"
          ]
        }
      ]
    }
  ]
}