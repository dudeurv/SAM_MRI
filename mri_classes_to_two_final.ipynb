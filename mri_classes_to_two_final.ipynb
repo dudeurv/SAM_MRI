{
  "nbformat": 4,
  "nbformat_minor": 0,
  "metadata": {
    "colab": {
      "provenance": [],
      "include_colab_link": true
    },
    "kernelspec": {
      "name": "python3",
      "display_name": "Python 3"
    },
    "language_info": {
      "name": "python"
    }
  },
  "cells": [
    {
      "cell_type": "markdown",
      "metadata": {
        "id": "view-in-github",
        "colab_type": "text"
      },
      "source": [
        "<a href=\"https://colab.research.google.com/github/dudeurv/SAM_MRI/blob/main/mri_classes_to_two_final.ipynb\" target=\"_parent\"><img src=\"https://colab.research.google.com/assets/colab-badge.svg\" alt=\"Open In Colab\"/></a>"
      ]
    },
    {
      "cell_type": "code",
      "source": [
        "!pip -q install nilearn nibabel SimpleITK"
      ],
      "metadata": {
        "id": "ZHdGTXOvOtpg",
        "colab": {
          "base_uri": "https://localhost:8080/"
        },
        "outputId": "f7a29bee-4c54-4527-ccac-67493c49503a"
      },
      "execution_count": null,
      "outputs": [
        {
          "output_type": "stream",
          "name": "stdout",
          "text": [
            "\u001b[2K     \u001b[90m━━━━━━━━━━━━━━━━━━━━━━━━━━━━━━━━━━━━━━━━\u001b[0m \u001b[32m10.4/10.4 MB\u001b[0m \u001b[31m21.5 MB/s\u001b[0m eta \u001b[36m0:00:00\u001b[0m\n",
            "\u001b[2K     \u001b[90m━━━━━━━━━━━━━━━━━━━━━━━━━━━━━━━━━━━━━━━━\u001b[0m \u001b[32m52.7/52.7 MB\u001b[0m \u001b[31m5.3 MB/s\u001b[0m eta \u001b[36m0:00:00\u001b[0m\n",
            "\u001b[?25h"
          ]
        }
      ]
    },
    {
      "cell_type": "code",
      "source": [
        "# Part 1: Setup\n",
        "import os\n",
        "import zipfile\n",
        "import SimpleITK as sitk\n",
        "import numpy as np\n",
        "import nibabel as nib\n",
        "import gdown\n",
        "import shutil\n",
        "\n",
        "\n",
        "# Part 2: Data Preparation\n",
        "# Download the dataset\n",
        "!gdown https://drive.google.com/uc?id=1qTbg3oJlO_RXwsgjvpyzfFZw5K7KZjVm\n",
        "\n",
        "# Unzip the dataset\n",
        "with zipfile.ZipFile('endonasal_mri_corrected.zip', 'r') as zip_ref:\n",
        "    zip_ref.extractall()"
      ],
      "metadata": {
        "colab": {
          "base_uri": "https://localhost:8080/"
        },
        "id": "HuplF2JmEwdu",
        "outputId": "750a8930-fb7f-46e7-dcca-5a27915439e9"
      },
      "execution_count": null,
      "outputs": [
        {
          "output_type": "stream",
          "name": "stdout",
          "text": [
            "Downloading...\n",
            "From: https://drive.google.com/uc?id=1qTbg3oJlO_RXwsgjvpyzfFZw5K7KZjVm\n",
            "To: /content/endonasal_mri_corrected.zip\n",
            "100% 358M/358M [00:05<00:00, 67.8MB/s]\n"
          ]
        }
      ]
    },
    {
      "cell_type": "code",
      "source": [
        "base_path = '/content/endonasal_mri_new'\n",
        "output_folder = '/content/endonasal_mri_new'\n",
        "\n",
        "os.makedirs(output_folder, exist_ok=True)\n",
        "\n",
        "# Part 3: Processing Functions\n",
        "def process_mri_with_itk(mri_folder):\n",
        "    ica_path = os.path.join(mri_folder, f\"{os.path.basename(mri_folder)}_ICAs.nii.gz\")\n",
        "    pituitary_tumour_path = os.path.join(mri_folder, f\"{os.path.basename(mri_folder)}_PituitaryAndTumour.nii.gz\")\n",
        "\n",
        "    # Load images\n",
        "    ica_img = sitk.ReadImage(ica_path)\n",
        "    pituitary_tumour_img = sitk.ReadImage(pituitary_tumour_path)\n",
        "\n",
        "    # Convert to arrays for processing\n",
        "    ica_array = sitk.GetArrayFromImage(ica_img)\n",
        "    pituitary_tumour_array = sitk.GetArrayFromImage(pituitary_tumour_img)\n",
        "\n",
        "    # Reassign the class of ICA from 1 to 2 and combine ICAs with PituitaryAndTumour\n",
        "    ica_array[ica_array == 1] = 2\n",
        "    combined_array = ica_array + pituitary_tumour_array\n",
        "\n",
        "    # Now explicitly reassign any third class as the second class if necessary\n",
        "    combined_array[combined_array == 3] = 2\n",
        "\n",
        "    # Convert array back to image and save\n",
        "    combined_img = sitk.GetImageFromArray(combined_array)\n",
        "    combined_img.CopyInformation(ica_img)\n",
        "    output_path = os.path.join(mri_folder, f\"{os.path.basename(mri_folder)}_mask.nii.gz\")\n",
        "    sitk.WriteImage(combined_img, output_path)\n",
        "\n",
        "    # Remove old masks\n",
        "    os.remove(ica_path)\n",
        "    os.remove(pituitary_tumour_path)\n",
        "\n",
        "    # Checking unique classes for debugging\n",
        "    unique_classes = np.unique(combined_array)\n",
        "    print(f\"Unique classes in {os.path.basename(mri_folder)} combined image: {unique_classes}\")\n",
        "\n",
        "def process_anatomical_mask_with_itk(mask_path, mri_folder):\n",
        "    # Adjust mask_path to include base_path\n",
        "    mask_path = os.path.join(base_path, mask_path)\n",
        "\n",
        "    # Load the mask image\n",
        "    mask_img = sitk.ReadImage(mask_path)\n",
        "    mask_array = sitk.GetArrayFromImage(mask_img)\n",
        "\n",
        "    # Remove class 2 and reassign class 3 to 2\n",
        "    mask_array[mask_array == 2] = 0\n",
        "    mask_array[mask_array == 3] = 2\n",
        "\n",
        "    # Save the modified mask\n",
        "    modified_mask_img = sitk.GetImageFromArray(mask_array)\n",
        "    modified_mask_img.CopyInformation(mask_img)\n",
        "    output_path = os.path.join(mri_folder, \"mri0066_mask.nii.gz\")\n",
        "    sitk.WriteImage(modified_mask_img, output_path)\n",
        "\n",
        "    unique_classes = np.unique(mask_array)\n",
        "    print(f\"Unique classes in {os.path.basename(mri_folder)} combined image: {unique_classes}\")\n",
        "\n",
        "    # Remove old mask\n",
        "    os.remove(mask_path)\n",
        "\n",
        "    t1c_path = mask_path.replace('mask_reorderx', 't1c')\n",
        "    t1c_img = sitk.ReadImage(t1c_path)\n",
        "    t1c_path = t1c_path.replace('.nii', '.nii.gz')\n",
        "    sitk.WriteImage(t1c_img, t1c_path)\n",
        "    os.remove(t1c_path)\n",
        "\n",
        "# Part 4: Execution - Go through the files in the Google Drive folder\n",
        "for i in [153, 155, 167, 170, 169, 154, 164, 151, 152, 66]:\n",
        "    mri_folder = f\"mri00{i}\" if i==66 else f\"mri0{i}\"\n",
        "    full_mri_path = os.path.join(base_path, mri_folder)  # Adjusted to correct folder structure\n",
        "\n",
        "    # Check if it's the special case of mri0010\n",
        "    if i == 66:\n",
        "        mask_path = os.path.join(full_mri_path, f'{mri_folder}_mask_reorderx.nii')  # Adjust for the correct file\n",
        "        process_anatomical_mask_with_itk(mask_path, full_mri_path)\n",
        "    else:\n",
        "        # Process regular MRI folder\n",
        "        process_mri_with_itk(full_mri_path)\n",
        "\n",
        "# Part 5: Zip and Download Processed Images\n",
        "zip_path = '/content/endonasal_mri_new.zip'\n",
        "with zipfile.ZipFile(zip_path, 'w') as zip_f:\n",
        "    for foldername, subfolders, filenames in os.walk(output_folder):\n",
        "        for filename in filenames:\n",
        "            file_path = os.path.join(foldername, filename)\n",
        "            zip_f.write(file_path, os.path.relpath(file_path, output_folder))\n",
        "\n",
        "print(f\"Processed files are saved and zipped in {zip_path}\")"
      ],
      "metadata": {
        "colab": {
          "base_uri": "https://localhost:8080/"
        },
        "id": "xO_EIgUBN3E-",
        "outputId": "3e72bc4b-f29f-408d-b208-7b68b9e1f01b"
      },
      "execution_count": null,
      "outputs": [
        {
          "output_type": "stream",
          "name": "stdout",
          "text": [
            "Unique classes in mri0153 combined image: [0 1 2]\n",
            "Unique classes in mri0155 combined image: [0 1 2]\n",
            "Unique classes in mri0167 combined image: [0 1 2]\n",
            "Unique classes in mri0170 combined image: [0 1 2]\n",
            "Unique classes in mri0169 combined image: [0 1 2]\n",
            "Unique classes in mri0154 combined image: [0 1 2]\n",
            "Unique classes in mri0164 combined image: [0 1 2]\n",
            "Unique classes in mri0151 combined image: [0 1 2]\n",
            "Unique classes in mri0152 combined image: [0 1 2]\n",
            "Unique classes in mri0066 combined image: [0. 1. 2.]\n",
            "Processed files are saved and zipped in /content/endonasal_mri_new.zip\n"
          ]
        }
      ]
    },
    {
      "cell_type": "code",
      "source": [
        "# Delete any folders if needed\n",
        "folder_path = input(\"Write a folder path, e.g. '/content/endonasal_mri_new': \")\n",
        "shutil.rmtree(folder_path)\n",
        "print(f\"Successfully deleted folder: {folder_path}\")"
      ],
      "metadata": {
        "colab": {
          "base_uri": "https://localhost:8080/"
        },
        "id": "IC5rpT4kw5VP",
        "outputId": "002ebce7-488a-4213-d125-7b9f7b0d385c"
      },
      "execution_count": null,
      "outputs": [
        {
          "output_type": "stream",
          "name": "stdout",
          "text": [
            "Write a folder path, e.g. '/content/endonasal_mri_new': /content/endonasal_mri_new_urvi\n",
            "Successfully deleted folder: /content/endonasal_mri_new_urvi\n"
          ]
        }
      ]
    }
  ]
}