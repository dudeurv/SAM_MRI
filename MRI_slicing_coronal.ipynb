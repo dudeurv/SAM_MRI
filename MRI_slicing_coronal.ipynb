{
  "nbformat": 4,
  "nbformat_minor": 0,
  "metadata": {
    "colab": {
      "provenance": [],
      "mount_file_id": "1t1-pj6DVhzcECTDu-bjj-gkXUkGz7FRh",
      "authorship_tag": "ABX9TyNt7ZLA+GNXrK6N5TRXEB1U",
      "include_colab_link": true
    },
    "kernelspec": {
      "name": "python3",
      "display_name": "Python 3"
    },
    "language_info": {
      "name": "python"
    }
  },
  "cells": [
    {
      "cell_type": "markdown",
      "metadata": {
        "id": "view-in-github",
        "colab_type": "text"
      },
      "source": [
        "<a href=\"https://colab.research.google.com/github/dudeurv/SAM_MRI/blob/main/MRI_slicing_coronal.ipynb\" target=\"_parent\"><img src=\"https://colab.research.google.com/assets/colab-badge.svg\" alt=\"Open In Colab\"/></a>"
      ]
    },
    {
      "cell_type": "markdown",
      "source": [
        "Install Nibabel"
      ],
      "metadata": {
        "id": "2WiK1bUXOLxH"
      }
    },
    {
      "cell_type": "code",
      "source": [
        "!pip -q install nibabel"
      ],
      "metadata": {
        "id": "nhSOYjL7OQNh"
      },
      "execution_count": 1,
      "outputs": []
    },
    {
      "cell_type": "markdown",
      "source": [
        "Importing"
      ],
      "metadata": {
        "id": "AFeCh3aOMuQs"
      }
    },
    {
      "cell_type": "code",
      "source": [
        "import os\n",
        "import nibabel as nib # used for reading and writing neuroimaging data formats, including NIFTI\n",
        "import numpy as np # for operations on large arrays and matrices of numeric data.\n",
        "import matplotlib.pyplot as plt\n",
        "import cv2 # OpenCV library used for computer vision and image processing tasks"
      ],
      "metadata": {
        "id": "4VafoDvfM5Dl"
      },
      "execution_count": 2,
      "outputs": []
    },
    {
      "cell_type": "code",
      "source": [
        "from google.colab import drive\n",
        "drive.mount('/content/drive')"
      ],
      "metadata": {
        "colab": {
          "base_uri": "https://localhost:8080/"
        },
        "id": "zPiQohAA_00B",
        "outputId": "5b75172d-b25c-47ef-c129-08bf612c94da"
      },
      "execution_count": 4,
      "outputs": [
        {
          "output_type": "stream",
          "name": "stdout",
          "text": [
            "Drive already mounted at /content/drive; to attempt to forcibly remount, call drive.mount(\"/content/drive\", force_remount=True).\n"
          ]
        }
      ]
    },
    {
      "cell_type": "code",
      "source": [
        "import nibabel as nib\n",
        "\n",
        "# Load the NIfTI file\n",
        "nifti = nib.load('/content/drive/MyDrive/endonasal_mri_patients/mri0066/mri0066_t1c.nii.gz')\n",
        "\n",
        "# Get the voxel dimensions\n",
        "voxel_dims = nifti.header.get_zooms()  # Tuple of (X, Y, Z) dimensions in mm\n",
        "\n",
        "print(voxel_dims)"
      ],
      "metadata": {
        "colab": {
          "base_uri": "https://localhost:8080/"
        },
        "id": "RJ31M7M_ucPo",
        "outputId": "7020a032-5211-4615-a733-74177a37bba7"
      },
      "execution_count": 39,
      "outputs": [
        {
          "output_type": "stream",
          "name": "stdout",
          "text": [
            "(0.48828125, 0.48828125, 1.5)\n"
          ]
        }
      ]
    },
    {
      "cell_type": "markdown",
      "source": [
        "Endonasal"
      ],
      "metadata": {
        "id": "czSLpc5osG-L"
      }
    },
    {
      "cell_type": "code",
      "source": [
        "import os\n",
        "import nibabel as nib\n",
        "import numpy as np\n",
        "import cv2\n",
        "import scipy.ndimage\n",
        "\n",
        "def slice_nifti_endonasal(input_folder: str) -> None:\n",
        "    \"\"\"\n",
        "    This function takes a folder of NIfTI MRI files, extracts 2D axial slices from each 3D volume,\n",
        "    and saves them as PNG images in a new folder.\n",
        "\n",
        "    Parameters:\n",
        "    - input_folder (str): The path to the folder containing the NIfTI folders.\n",
        "    \"\"\"\n",
        "\n",
        "    # Define patient MRI IDs and file types\n",
        "    patient_ids = [\"153\", \"155\", \"167\", \"170\", \"169\", \"154\", \"164\", \"151\", \"152\", \"066\"]\n",
        "    file_types = [\"t1c\", \"masks\"]\n",
        "\n",
        "    # Create output folders for each file type\n",
        "    output_folders = {file_type: f\"{file_type}_slices\" for file_type in file_types}\n",
        "    for folder in output_folders.values():\n",
        "        if not os.path.exists(folder):\n",
        "            os.makedirs(folder)\n",
        "\n",
        "    # Loop through all folders in the input folder\n",
        "    for folder in os.listdir(input_folder):\n",
        "\n",
        "        full_folder_path = os.path.join(input_folder, folder)\n",
        "\n",
        "        print(\"Contents of \", full_folder_path, \": \", os.listdir(full_folder_path))\n",
        "\n",
        "        # Process each file in the patient folder\n",
        "        for filename in os.listdir(full_folder_path):\n",
        "            print(\"Found file:\", filename)\n",
        "            filepath = os.path.join(full_folder_path, filename)\n",
        "\n",
        "            image = nib.load(filepath)\n",
        "            array = image.get_fdata()\n",
        "\n",
        "            # Determine the type of file and set the output folder\n",
        "            if \"t1c\" in filename:\n",
        "                output_folder = output_folders[\"t1c\"]\n",
        "                array = cv2.normalize(array, None, 0, 255, cv2.NORM_MINMAX, dtype=cv2.CV_8U)\n",
        "            elif \"mask\" in filename:\n",
        "                output_folder = output_folders[\"masks\"]\n",
        "            else:\n",
        "                continue  # Skip files that don't match the pattern\n",
        "\n",
        "            # Save each slice as a PNG image\n",
        "            for y in range(array.shape[1]):  # Change the loop to iterate over the Y-axis\n",
        "                normalized_slice = np.rot90(array[:, y, :], k=1)\n",
        "\n",
        "                # Create an empty (padded) array\n",
        "                img_pad = np.zeros((512, 512), dtype=np.uint8)\n",
        "\n",
        "                # Calculate the center of the padded array\n",
        "                center_x = (512 - normalized_slice.shape[0]) // 2\n",
        "                center_y = (512 - normalized_slice.shape[1]) // 2\n",
        "\n",
        "                # Place the normalized slice into the center of the padded array\n",
        "                img_pad[center_x:center_x + normalized_slice.shape[0], center_y:center_y + normalized_slice.shape[1]] = normalized_slice\n",
        "\n",
        "                output_filename = os.path.join(output_folder, f\"{folder}_slice{y}.png\")\n",
        "                cv2.imwrite(output_filename, img_pad)  # Save the padded image\n",
        "\n",
        "    print(f\"Completed slicing. T1c slices have been saved to {output_folders['t1c']}.\")\n",
        "    print(f\"Completed slicing. Segmentation slices have been saved to {output_folders['masks']}.\")\n",
        "\n",
        "# Example usage\n",
        "if __name__ == \"__main__\":\n",
        "    folder_path = '/content/drive/MyDrive/endonasal_mri_patients'\n",
        "    os.makedirs('endonasal_mri_slices', exist_ok = True)\n",
        "    slice_nifti_endonasal(folder_path)"
      ],
      "metadata": {
        "colab": {
          "base_uri": "https://localhost:8080/"
        },
        "id": "Gus0hD7fDn1d",
        "outputId": "3d2d1d75-522e-481f-c6d9-8c5e4b88e85d"
      },
      "execution_count": 44,
      "outputs": [
        {
          "output_type": "stream",
          "name": "stdout",
          "text": [
            "Contents of  /content/drive/MyDrive/endonasal_mri_patients/mri0066 :  ['mri0066_mask.nii.gz', 'mri0066_t1c.nii.gz']\n",
            "Found file: mri0066_mask.nii.gz\n",
            "Found file: mri0066_t1c.nii.gz\n",
            "Contents of  /content/drive/MyDrive/endonasal_mri_patients/mri0152 :  ['mri0152_t1c.nii.gz', 'mri0152_mask.nii.gz']\n",
            "Found file: mri0152_t1c.nii.gz\n",
            "Found file: mri0152_mask.nii.gz\n",
            "Contents of  /content/drive/MyDrive/endonasal_mri_patients/mri0155 :  ['mri0155_t1c.nii.gz', 'mri0155_mask.nii.gz']\n",
            "Found file: mri0155_t1c.nii.gz\n",
            "Found file: mri0155_mask.nii.gz\n",
            "Contents of  /content/drive/MyDrive/endonasal_mri_patients/mri0170 :  ['mri0170_t1c.nii.gz', 'mri0170_mask.nii.gz']\n",
            "Found file: mri0170_t1c.nii.gz\n",
            "Found file: mri0170_mask.nii.gz\n",
            "Contents of  /content/drive/MyDrive/endonasal_mri_patients/mri0154 :  ['mri0154_t1c.nii.gz', 'mri0154_mask.nii.gz']\n",
            "Found file: mri0154_t1c.nii.gz\n",
            "Found file: mri0154_mask.nii.gz\n",
            "Contents of  /content/drive/MyDrive/endonasal_mri_patients/mri0153 :  ['mri0153_t1c.nii.gz', 'mri0153_mask.nii.gz']\n",
            "Found file: mri0153_t1c.nii.gz\n",
            "Found file: mri0153_mask.nii.gz\n",
            "Contents of  /content/drive/MyDrive/endonasal_mri_patients/mri0169 :  ['mri0169_t1c.nii.gz', 'mri0169_mask.nii.gz']\n",
            "Found file: mri0169_t1c.nii.gz\n",
            "Found file: mri0169_mask.nii.gz\n",
            "Contents of  /content/drive/MyDrive/endonasal_mri_patients/mri0167 :  ['mri0167_t1c.nii.gz', 'mri0167_mask.nii.gz']\n",
            "Found file: mri0167_t1c.nii.gz\n",
            "Found file: mri0167_mask.nii.gz\n",
            "Contents of  /content/drive/MyDrive/endonasal_mri_patients/mri0151 :  ['mri0151_t1c.nii.gz', 'mri0151_mask.nii.gz']\n",
            "Found file: mri0151_t1c.nii.gz\n",
            "Found file: mri0151_mask.nii.gz\n",
            "Contents of  /content/drive/MyDrive/endonasal_mri_patients/mri0164 :  ['mri0164_t1c.nii.gz', 'mri0164_mask.nii.gz']\n",
            "Found file: mri0164_t1c.nii.gz\n",
            "Found file: mri0164_mask.nii.gz\n",
            "Completed slicing. T1c slices have been saved to t1c_slices.\n",
            "Completed slicing. Segmentation slices have been saved to masks_slices.\n"
          ]
        }
      ]
    },
    {
      "cell_type": "markdown",
      "source": [
        "Public:"
      ],
      "metadata": {
        "id": "dhmIpCxQ6-Qn"
      }
    },
    {
      "cell_type": "code",
      "source": [
        "def slice_nifti_endonasal_public(input_folder: str) -> None:\n",
        "    \"\"\"\n",
        "    This function takes a folder of NIfTI MRI files, extracts 2D axial slices from each 3D volume,\n",
        "    and saves them as PNG images in a new folder.\n",
        "\n",
        "    Parameters:\n",
        "    - input_folder (str): The path to the folder containing the NIfTI folders.\n",
        "    \"\"\"\n",
        "\n",
        "    # Define patient MRI IDs and file types\n",
        "    patient_ids = [\"001\", \"002\", \"003\", \"004\", \"005\", \"006\", \"007\", \"008\", \"009\", \"010\", \"011\", \"012\", \"013\", \"014\"]\n",
        "    file_types = [\"t1c_public\", \"masks_public\"]\n",
        "\n",
        "    # Create output folders for each file type\n",
        "    output_folders = {file_type: f\"{file_type}_slices\" for file_type in file_types}\n",
        "    for folder in output_folders.values():\n",
        "        if not os.path.exists(folder):\n",
        "            os.makedirs(folder)\n",
        "\n",
        "    # Loop through all folders in the input folder\n",
        "    for folder in os.listdir(input_folder):\n",
        "\n",
        "        full_folder_path = os.path.join(input_folder, folder)\n",
        "\n",
        "        print(\"Contents of \", full_folder_path, \": \", os.listdir(full_folder_path))\n",
        "\n",
        "        # Process each file in the patient folder\n",
        "        for filename in os.listdir(full_folder_path):\n",
        "            print(\"Found file:\", filename)\n",
        "            filepath = os.path.join(full_folder_path, filename)\n",
        "\n",
        "            image = nib.load(filepath)\n",
        "            array = image.get_fdata()\n",
        "\n",
        "            array = np.rot90(array, axes=(0, 1))\n",
        "\n",
        "            # Determine the type of file and set the output folder\n",
        "            if \"t1c\" in filename:\n",
        "                output_folder = output_folders[\"t1c_public\"]\n",
        "                array = cv2.normalize(array, None, 0, 255, cv2.NORM_MINMAX, dtype=cv2.CV_8U)\n",
        "            elif \"mask\" in filename:\n",
        "                output_folder = output_folders[\"masks_public\"]\n",
        "            else:\n",
        "                continue  # Skip files that don't match the pattern\n",
        "\n",
        "            # Save each slice as a PNG image\n",
        "            for y in range(array.shape[1]):  # Change the loop to iterate over the Y-axis\n",
        "                normalized_slice = array[:, y, :]\n",
        "\n",
        "                output_filename = os.path.join(output_folder, f\"{folder}_slice{y}.png\")\n",
        "                cv2.imwrite(output_filename, normalized_slice)\n",
        "\n",
        "    print(f\"Completed slicing. T1c slices have been saved to {output_folders['t1c_public']}.\")\n",
        "    print(f\"Completed slicing. Segmentation slices have been saved to {output_folders['masks_public']}.\")\n",
        "\n",
        "# Example usage\n",
        "if __name__ == \"__main__\":\n",
        "    folder_path = '/content/drive/MyDrive/pituitary_resampled'\n",
        "    os.makedirs('endonasal_mri_slices', exist_ok = True)\n",
        "    slice_nifti_endonasal_public(folder_path)"
      ],
      "metadata": {
        "colab": {
          "base_uri": "https://localhost:8080/"
        },
        "id": "YpljFq0C3C8d",
        "outputId": "5715b09a-d264-4a15-e380-123b204a07e2"
      },
      "execution_count": 66,
      "outputs": [
        {
          "output_type": "stream",
          "name": "stdout",
          "text": [
            "Contents of  /content/drive/MyDrive/pituitary_resampled/mri_011 :  ['mri_011_t1c.nii.gz', 'mri_011_mask.nii.gz']\n",
            "Found file: mri_011_t1c.nii.gz\n",
            "Found file: mri_011_mask.nii.gz\n",
            "Contents of  /content/drive/MyDrive/pituitary_resampled/mri_006 :  ['mri_006_t1c.nii.gz', 'mri_006_mask.nii.gz']\n",
            "Found file: mri_006_t1c.nii.gz\n",
            "Found file: mri_006_mask.nii.gz\n",
            "Contents of  /content/drive/MyDrive/pituitary_resampled/mri_013 :  ['mri_013_mask.nii.gz', 'mri_013_t1c.nii.gz']\n",
            "Found file: mri_013_mask.nii.gz\n",
            "Found file: mri_013_t1c.nii.gz\n",
            "Contents of  /content/drive/MyDrive/pituitary_resampled/mri_002 :  ['mri_002_mask.nii.gz', 'mri_002_t1c.nii.gz']\n",
            "Found file: mri_002_mask.nii.gz\n",
            "Found file: mri_002_t1c.nii.gz\n",
            "Contents of  /content/drive/MyDrive/pituitary_resampled/mri_009 :  ['mri_009_mask.nii.gz', 'mri_009_t1c.nii.gz']\n",
            "Found file: mri_009_mask.nii.gz\n",
            "Found file: mri_009_t1c.nii.gz\n",
            "Contents of  /content/drive/MyDrive/pituitary_resampled/mri_005 :  ['mri_005_mask.nii.gz', 'mri_005_t1c.nii.gz']\n",
            "Found file: mri_005_mask.nii.gz\n",
            "Found file: mri_005_t1c.nii.gz\n",
            "Contents of  /content/drive/MyDrive/pituitary_resampled/mri_007 :  ['mri_007_mask.nii.gz', 'mri_007_t1c.nii.gz']\n",
            "Found file: mri_007_mask.nii.gz\n",
            "Found file: mri_007_t1c.nii.gz\n",
            "Contents of  /content/drive/MyDrive/pituitary_resampled/mri_008 :  ['mri_008_mask.nii.gz', 'mri_008_t1c.nii.gz']\n",
            "Found file: mri_008_mask.nii.gz\n",
            "Found file: mri_008_t1c.nii.gz\n",
            "Contents of  /content/drive/MyDrive/pituitary_resampled/mri_004 :  ['mri_004_mask.nii.gz', 'mri_004_t1c.nii.gz']\n",
            "Found file: mri_004_mask.nii.gz\n",
            "Found file: mri_004_t1c.nii.gz\n",
            "Contents of  /content/drive/MyDrive/pituitary_resampled/mri_014 :  ['mri_014_t1c.nii.gz', 'mri_014_mask.nii.gz']\n",
            "Found file: mri_014_t1c.nii.gz\n",
            "Found file: mri_014_mask.nii.gz\n",
            "Contents of  /content/drive/MyDrive/pituitary_resampled/mri_003 :  ['mri_003_mask.nii.gz', 'mri_003_t1c.nii.gz']\n",
            "Found file: mri_003_mask.nii.gz\n",
            "Found file: mri_003_t1c.nii.gz\n",
            "Contents of  /content/drive/MyDrive/pituitary_resampled/mri_001 :  ['mri_001_t1c.nii.gz', 'mri_001_mask.nii.gz']\n",
            "Found file: mri_001_t1c.nii.gz\n",
            "Found file: mri_001_mask.nii.gz\n",
            "Contents of  /content/drive/MyDrive/pituitary_resampled/mri_012 :  ['mri_012_mask.nii.gz', 'mri_012_t1c.nii.gz']\n",
            "Found file: mri_012_mask.nii.gz\n",
            "Found file: mri_012_t1c.nii.gz\n",
            "Contents of  /content/drive/MyDrive/pituitary_resampled/mri_010 :  ['mri_010_mask.nii.gz', 'mri_010_t1c.nii.gz']\n",
            "Found file: mri_010_mask.nii.gz\n",
            "Found file: mri_010_t1c.nii.gz\n",
            "Completed slicing. T1c slices have been saved to t1c_public_slices.\n",
            "Completed slicing. Segmentation slices have been saved to masks_public_slices.\n"
          ]
        }
      ]
    },
    {
      "cell_type": "code",
      "source": [
        "import shutil\n",
        "# Delete any folders if needed\n",
        "folder_path =  '/content/drive/MyDrive/endonasal_mri_slices'\n",
        "folder_path1 = '/content/masks_slices'\n",
        "folder_path2 ='/content/t1c_slices'\n",
        "folder_path3 ='/content/t1c_public_slices'\n",
        "folder_path4 = '/content/masks_public_slices'\n",
        "shutil.rmtree(folder_path3)\n",
        "print(f\"Successfully deleted folder\")"
      ],
      "metadata": {
        "colab": {
          "base_uri": "https://localhost:8080/"
        },
        "id": "_v42wNR-CzjC",
        "outputId": "aaee9ecc-1de5-4188-dac3-6982183a62af"
      },
      "execution_count": 65,
      "outputs": [
        {
          "output_type": "stream",
          "name": "stdout",
          "text": [
            "Successfully deleted folder\n"
          ]
        }
      ]
    }
  ]
}