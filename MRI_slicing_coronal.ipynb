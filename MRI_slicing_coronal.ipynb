{
  "nbformat": 4,
  "nbformat_minor": 0,
  "metadata": {
    "colab": {
      "provenance": [],
      "mount_file_id": "1t1-pj6DVhzcECTDu-bjj-gkXUkGz7FRh",
      "authorship_tag": "ABX9TyOkkym2x7nalXlNsu1R4VNl",
      "include_colab_link": true
    },
    "kernelspec": {
      "name": "python3",
      "display_name": "Python 3"
    },
    "language_info": {
      "name": "python"
    }
  },
  "cells": [
    {
      "cell_type": "markdown",
      "metadata": {
        "id": "view-in-github",
        "colab_type": "text"
      },
      "source": [
        "<a href=\"https://colab.research.google.com/github/dudeurv/SAM_MRI/blob/main/MRI_slicing_coronal.ipynb\" target=\"_parent\"><img src=\"https://colab.research.google.com/assets/colab-badge.svg\" alt=\"Open In Colab\"/></a>"
      ]
    },
    {
      "cell_type": "markdown",
      "source": [
        "Install Nibabel"
      ],
      "metadata": {
        "id": "2WiK1bUXOLxH"
      }
    },
    {
      "cell_type": "code",
      "source": [
        "!pip -q install nibabel"
      ],
      "metadata": {
        "id": "nhSOYjL7OQNh"
      },
      "execution_count": 1,
      "outputs": []
    },
    {
      "cell_type": "markdown",
      "source": [
        "Importing"
      ],
      "metadata": {
        "id": "AFeCh3aOMuQs"
      }
    },
    {
      "cell_type": "code",
      "source": [
        "import os\n",
        "import nibabel as nib # used for reading and writing neuroimaging data formats, including NIFTI\n",
        "import numpy as np # for operations on large arrays and matrices of numeric data.\n",
        "import matplotlib.pyplot as plt\n",
        "import cv2 # OpenCV library used for computer vision and image processing tasks"
      ],
      "metadata": {
        "id": "4VafoDvfM5Dl"
      },
      "execution_count": 2,
      "outputs": []
    },
    {
      "cell_type": "code",
      "source": [
        "from google.colab import drive\n",
        "drive.mount('/content/drive')"
      ],
      "metadata": {
        "colab": {
          "base_uri": "https://localhost:8080/"
        },
        "id": "zPiQohAA_00B",
        "outputId": "5b75172d-b25c-47ef-c129-08bf612c94da"
      },
      "execution_count": 4,
      "outputs": [
        {
          "output_type": "stream",
          "name": "stdout",
          "text": [
            "Drive already mounted at /content/drive; to attempt to forcibly remount, call drive.mount(\"/content/drive\", force_remount=True).\n"
          ]
        }
      ]
    },
    {
      "cell_type": "code",
      "source": [
        "import nibabel as nib\n",
        "\n",
        "# Load the NIfTI file\n",
        "nifti = nib.load('/content/drive/MyDrive/endonasal_mri_patients/mri0066/mri0066_t1c.nii.gz')\n",
        "\n",
        "# Get the voxel dimensions\n",
        "voxel_dims = nifti.header.get_zooms()  # Tuple of (X, Y, Z) dimensions in mm\n",
        "\n",
        "print(voxel_dims)"
      ],
      "metadata": {
        "colab": {
          "base_uri": "https://localhost:8080/"
        },
        "id": "RJ31M7M_ucPo",
        "outputId": "7020a032-5211-4615-a733-74177a37bba7"
      },
      "execution_count": 39,
      "outputs": [
        {
          "output_type": "stream",
          "name": "stdout",
          "text": [
            "(0.48828125, 0.48828125, 1.5)\n"
          ]
        }
      ]
    },
    {
      "cell_type": "markdown",
      "source": [
        "Endonasal"
      ],
      "metadata": {
        "id": "czSLpc5osG-L"
      }
    },
    {
      "cell_type": "code",
      "source": [
        "import os\n",
        "import nibabel as nib\n",
        "import numpy as np\n",
        "import cv2\n",
        "import scipy.ndimage\n",
        "\n",
        "def slice_nifti_endonasal(input_folder: str) -> None:\n",
        "    \"\"\"\n",
        "    This function takes a folder of NIfTI MRI files, extracts 2D axial slices from each 3D volume,\n",
        "    and saves them as PNG images in a new folder.\n",
        "\n",
        "    Parameters:\n",
        "    - input_folder (str): The path to the folder containing the NIfTI folders.\n",
        "    \"\"\"\n",
        "\n",
        "    # Define patient MRI IDs and file types\n",
        "    patient_ids = [\"153\", \"155\", \"167\", \"170\", \"169\", \"154\", \"164\", \"151\", \"152\", \"066\"]\n",
        "    file_types = [\"t1c\", \"masks\"]\n",
        "\n",
        "    # Create output folders for each file type\n",
        "    output_folders = {file_type: f\"{file_type}_slices\" for file_type in file_types}\n",
        "    for folder in output_folders.values():\n",
        "        if not os.path.exists(folder):\n",
        "            os.makedirs(folder)\n",
        "\n",
        "    # Loop through all folders in the input folder\n",
        "    for folder in os.listdir(input_folder):\n",
        "\n",
        "        full_folder_path = os.path.join(input_folder, folder)\n",
        "\n",
        "        print(\"Contents of \", full_folder_path, \": \", os.listdir(full_folder_path))\n",
        "\n",
        "        # Process each file in the patient folder\n",
        "        for filename in os.listdir(full_folder_path):\n",
        "            print(\"Found file:\", filename)\n",
        "            filepath = os.path.join(full_folder_path, filename)\n",
        "\n",
        "            image = nib.load(filepath)\n",
        "            array = image.get_fdata()\n",
        "\n",
        "            # Determine the type of file and set the output folder\n",
        "            if \"t1c\" in filename:\n",
        "                output_folder = output_folders[\"t1c\"]\n",
        "                array = cv2.normalize(array, None, 0, 255, cv2.NORM_MINMAX, dtype=cv2.CV_8U)\n",
        "            elif \"mask\" in filename:\n",
        "                output_folder = output_folders[\"masks\"]\n",
        "            else:\n",
        "                continue  # Skip files that don't match the pattern\n",
        "\n",
        "            # Save each slice as a PNG image\n",
        "            for y in range(array.shape[1]):  # Change the loop to iterate over the Y-axis\n",
        "                normalized_slice = np.rot90(array[:, y, :], k=1)\n",
        "\n",
        "                # Create an empty (padded) array\n",
        "                img_pad = np.zeros((512, 512), dtype=np.uint8)\n",
        "\n",
        "                # Calculate the center of the padded array\n",
        "                center_x = (512 - normalized_slice.shape[0]) // 2\n",
        "                center_y = (512 - normalized_slice.shape[1]) // 2\n",
        "\n",
        "                # Place the normalized slice into the center of the padded array\n",
        "                img_pad[center_x:center_x + normalized_slice.shape[0], center_y:center_y + normalized_slice.shape[1]] = normalized_slice\n",
        "\n",
        "                output_filename = os.path.join(output_folder, f\"{folder}_slice{y}.png\")\n",
        "                cv2.imwrite(output_filename, img_pad)  # Save the padded image\n",
        "\n",
        "    print(f\"Completed slicing. T1c slices have been saved to {output_folders['t1c']}.\")\n",
        "    print(f\"Completed slicing. Segmentation slices have been saved to {output_folders['masks']}.\")\n",
        "\n",
        "# Example usage\n",
        "if __name__ == \"__main__\":\n",
        "    folder_path = '/content/drive/MyDrive/endonasal_mri_patients'\n",
        "    os.makedirs('endonasal_mri_slices', exist_ok = True)\n",
        "    slice_nifti_endonasal(folder_path)"
      ],
      "metadata": {
        "colab": {
          "base_uri": "https://localhost:8080/"
        },
        "id": "Gus0hD7fDn1d",
        "outputId": "3d2d1d75-522e-481f-c6d9-8c5e4b88e85d"
      },
      "execution_count": 44,
      "outputs": [
        {
          "output_type": "stream",
          "name": "stdout",
          "text": [
            "Contents of  /content/drive/MyDrive/endonasal_mri_patients/mri0066 :  ['mri0066_mask.nii.gz', 'mri0066_t1c.nii.gz']\n",
            "Found file: mri0066_mask.nii.gz\n",
            "Found file: mri0066_t1c.nii.gz\n",
            "Contents of  /content/drive/MyDrive/endonasal_mri_patients/mri0152 :  ['mri0152_t1c.nii.gz', 'mri0152_mask.nii.gz']\n",
            "Found file: mri0152_t1c.nii.gz\n",
            "Found file: mri0152_mask.nii.gz\n",
            "Contents of  /content/drive/MyDrive/endonasal_mri_patients/mri0155 :  ['mri0155_t1c.nii.gz', 'mri0155_mask.nii.gz']\n",
            "Found file: mri0155_t1c.nii.gz\n",
            "Found file: mri0155_mask.nii.gz\n",
            "Contents of  /content/drive/MyDrive/endonasal_mri_patients/mri0170 :  ['mri0170_t1c.nii.gz', 'mri0170_mask.nii.gz']\n",
            "Found file: mri0170_t1c.nii.gz\n",
            "Found file: mri0170_mask.nii.gz\n",
            "Contents of  /content/drive/MyDrive/endonasal_mri_patients/mri0154 :  ['mri0154_t1c.nii.gz', 'mri0154_mask.nii.gz']\n",
            "Found file: mri0154_t1c.nii.gz\n",
            "Found file: mri0154_mask.nii.gz\n",
            "Contents of  /content/drive/MyDrive/endonasal_mri_patients/mri0153 :  ['mri0153_t1c.nii.gz', 'mri0153_mask.nii.gz']\n",
            "Found file: mri0153_t1c.nii.gz\n",
            "Found file: mri0153_mask.nii.gz\n",
            "Contents of  /content/drive/MyDrive/endonasal_mri_patients/mri0169 :  ['mri0169_t1c.nii.gz', 'mri0169_mask.nii.gz']\n",
            "Found file: mri0169_t1c.nii.gz\n",
            "Found file: mri0169_mask.nii.gz\n",
            "Contents of  /content/drive/MyDrive/endonasal_mri_patients/mri0167 :  ['mri0167_t1c.nii.gz', 'mri0167_mask.nii.gz']\n",
            "Found file: mri0167_t1c.nii.gz\n",
            "Found file: mri0167_mask.nii.gz\n",
            "Contents of  /content/drive/MyDrive/endonasal_mri_patients/mri0151 :  ['mri0151_t1c.nii.gz', 'mri0151_mask.nii.gz']\n",
            "Found file: mri0151_t1c.nii.gz\n",
            "Found file: mri0151_mask.nii.gz\n",
            "Contents of  /content/drive/MyDrive/endonasal_mri_patients/mri0164 :  ['mri0164_t1c.nii.gz', 'mri0164_mask.nii.gz']\n",
            "Found file: mri0164_t1c.nii.gz\n",
            "Found file: mri0164_mask.nii.gz\n",
            "Completed slicing. T1c slices have been saved to t1c_slices.\n",
            "Completed slicing. Segmentation slices have been saved to masks_slices.\n"
          ]
        }
      ]
    },
    {
      "cell_type": "code",
      "source": [
        "import shutil\n",
        "# Delete any folders if needed\n",
        "folder_path =  '/content/drive/MyDrive/endonasal_mri_slices'\n",
        "folder_path1 = '/content/masks_slices'\n",
        "folder_path2 ='/content/t1c_slices'\n",
        "shutil.rmtree(folder_path2)\n",
        "print(f\"Successfully deleted folder\")"
      ],
      "metadata": {
        "colab": {
          "base_uri": "https://localhost:8080/"
        },
        "id": "_v42wNR-CzjC",
        "outputId": "b77a960b-39cb-4741-b34a-63bd197162a2"
      },
      "execution_count": 43,
      "outputs": [
        {
          "output_type": "stream",
          "name": "stdout",
          "text": [
            "Successfully deleted folder\n"
          ]
        }
      ]
    },
    {
      "cell_type": "code",
      "source": [
        "img = cv2.imread('/content/drive/MyDrive/Endonasal_Slices/Train/t1c_slices/mri0066_slice42.png')\n",
        "mask = cv2.imread('/content/drive/MyDrive/Endonasal_Slices/Train/masks_slices/mri0066_slice42.png')\n",
        "print(np.unique(img), np.unique(mask))\n",
        "\n",
        "plt.subplot(131), plt.imshow(img, cmap='gray')\n",
        "plt.axis('OFF')\n",
        "plt.subplot(132), plt.imshow(mask, cmap='gray')\n",
        "plt.axis('OFF');\n",
        "mask[mask==1] = 127\n",
        "mask[mask==2] = 255\n",
        "plt.subplot(133), plt.imshow(mask, cmap='gray')\n",
        "plt.axis('OFF');"
      ],
      "metadata": {
        "colab": {
          "base_uri": "https://localhost:8080/",
          "height": 612
        },
        "id": "UBzVn16PH6uk",
        "outputId": "1aac63eb-b3e0-4d91-f1ec-82acb335b264"
      },
      "execution_count": 45,
      "outputs": [
        {
          "output_type": "stream",
          "name": "stdout",
          "text": [
            "[None] [None]\n"
          ]
        },
        {
          "output_type": "error",
          "ename": "TypeError",
          "evalue": "Image data of dtype object cannot be converted to float",
          "traceback": [
            "\u001b[0;31m---------------------------------------------------------------------------\u001b[0m",
            "\u001b[0;31mTypeError\u001b[0m                                 Traceback (most recent call last)",
            "\u001b[0;32m<ipython-input-45-e4cc1c10e39c>\u001b[0m in \u001b[0;36m<cell line: 5>\u001b[0;34m()\u001b[0m\n\u001b[1;32m      3\u001b[0m \u001b[0mprint\u001b[0m\u001b[0;34m(\u001b[0m\u001b[0mnp\u001b[0m\u001b[0;34m.\u001b[0m\u001b[0munique\u001b[0m\u001b[0;34m(\u001b[0m\u001b[0mimg\u001b[0m\u001b[0;34m)\u001b[0m\u001b[0;34m,\u001b[0m \u001b[0mnp\u001b[0m\u001b[0;34m.\u001b[0m\u001b[0munique\u001b[0m\u001b[0;34m(\u001b[0m\u001b[0mmask\u001b[0m\u001b[0;34m)\u001b[0m\u001b[0;34m)\u001b[0m\u001b[0;34m\u001b[0m\u001b[0;34m\u001b[0m\u001b[0m\n\u001b[1;32m      4\u001b[0m \u001b[0;34m\u001b[0m\u001b[0m\n\u001b[0;32m----> 5\u001b[0;31m \u001b[0mplt\u001b[0m\u001b[0;34m.\u001b[0m\u001b[0msubplot\u001b[0m\u001b[0;34m(\u001b[0m\u001b[0;36m131\u001b[0m\u001b[0;34m)\u001b[0m\u001b[0;34m,\u001b[0m \u001b[0mplt\u001b[0m\u001b[0;34m.\u001b[0m\u001b[0mimshow\u001b[0m\u001b[0;34m(\u001b[0m\u001b[0mimg\u001b[0m\u001b[0;34m,\u001b[0m \u001b[0mcmap\u001b[0m\u001b[0;34m=\u001b[0m\u001b[0;34m'gray'\u001b[0m\u001b[0;34m)\u001b[0m\u001b[0;34m\u001b[0m\u001b[0;34m\u001b[0m\u001b[0m\n\u001b[0m\u001b[1;32m      6\u001b[0m \u001b[0mplt\u001b[0m\u001b[0;34m.\u001b[0m\u001b[0maxis\u001b[0m\u001b[0;34m(\u001b[0m\u001b[0;34m'OFF'\u001b[0m\u001b[0;34m)\u001b[0m\u001b[0;34m\u001b[0m\u001b[0;34m\u001b[0m\u001b[0m\n\u001b[1;32m      7\u001b[0m \u001b[0mplt\u001b[0m\u001b[0;34m.\u001b[0m\u001b[0msubplot\u001b[0m\u001b[0;34m(\u001b[0m\u001b[0;36m132\u001b[0m\u001b[0;34m)\u001b[0m\u001b[0;34m,\u001b[0m \u001b[0mplt\u001b[0m\u001b[0;34m.\u001b[0m\u001b[0mimshow\u001b[0m\u001b[0;34m(\u001b[0m\u001b[0mmask\u001b[0m\u001b[0;34m,\u001b[0m \u001b[0mcmap\u001b[0m\u001b[0;34m=\u001b[0m\u001b[0;34m'gray'\u001b[0m\u001b[0;34m)\u001b[0m\u001b[0;34m\u001b[0m\u001b[0;34m\u001b[0m\u001b[0m\n",
            "\u001b[0;32m/usr/local/lib/python3.10/dist-packages/matplotlib/pyplot.py\u001b[0m in \u001b[0;36mimshow\u001b[0;34m(X, cmap, norm, aspect, interpolation, alpha, vmin, vmax, origin, extent, interpolation_stage, filternorm, filterrad, resample, url, data, **kwargs)\u001b[0m\n\u001b[1;32m   2693\u001b[0m         \u001b[0minterpolation_stage\u001b[0m\u001b[0;34m=\u001b[0m\u001b[0;32mNone\u001b[0m\u001b[0;34m,\u001b[0m \u001b[0mfilternorm\u001b[0m\u001b[0;34m=\u001b[0m\u001b[0;32mTrue\u001b[0m\u001b[0;34m,\u001b[0m \u001b[0mfilterrad\u001b[0m\u001b[0;34m=\u001b[0m\u001b[0;36m4.0\u001b[0m\u001b[0;34m,\u001b[0m\u001b[0;34m\u001b[0m\u001b[0;34m\u001b[0m\u001b[0m\n\u001b[1;32m   2694\u001b[0m         resample=None, url=None, data=None, **kwargs):\n\u001b[0;32m-> 2695\u001b[0;31m     __ret = gca().imshow(\n\u001b[0m\u001b[1;32m   2696\u001b[0m         \u001b[0mX\u001b[0m\u001b[0;34m,\u001b[0m \u001b[0mcmap\u001b[0m\u001b[0;34m=\u001b[0m\u001b[0mcmap\u001b[0m\u001b[0;34m,\u001b[0m \u001b[0mnorm\u001b[0m\u001b[0;34m=\u001b[0m\u001b[0mnorm\u001b[0m\u001b[0;34m,\u001b[0m \u001b[0maspect\u001b[0m\u001b[0;34m=\u001b[0m\u001b[0maspect\u001b[0m\u001b[0;34m,\u001b[0m\u001b[0;34m\u001b[0m\u001b[0;34m\u001b[0m\u001b[0m\n\u001b[1;32m   2697\u001b[0m         \u001b[0minterpolation\u001b[0m\u001b[0;34m=\u001b[0m\u001b[0minterpolation\u001b[0m\u001b[0;34m,\u001b[0m \u001b[0malpha\u001b[0m\u001b[0;34m=\u001b[0m\u001b[0malpha\u001b[0m\u001b[0;34m,\u001b[0m \u001b[0mvmin\u001b[0m\u001b[0;34m=\u001b[0m\u001b[0mvmin\u001b[0m\u001b[0;34m,\u001b[0m\u001b[0;34m\u001b[0m\u001b[0;34m\u001b[0m\u001b[0m\n",
            "\u001b[0;32m/usr/local/lib/python3.10/dist-packages/matplotlib/__init__.py\u001b[0m in \u001b[0;36minner\u001b[0;34m(ax, data, *args, **kwargs)\u001b[0m\n\u001b[1;32m   1440\u001b[0m     \u001b[0;32mdef\u001b[0m \u001b[0minner\u001b[0m\u001b[0;34m(\u001b[0m\u001b[0max\u001b[0m\u001b[0;34m,\u001b[0m \u001b[0;34m*\u001b[0m\u001b[0margs\u001b[0m\u001b[0;34m,\u001b[0m \u001b[0mdata\u001b[0m\u001b[0;34m=\u001b[0m\u001b[0;32mNone\u001b[0m\u001b[0;34m,\u001b[0m \u001b[0;34m**\u001b[0m\u001b[0mkwargs\u001b[0m\u001b[0;34m)\u001b[0m\u001b[0;34m:\u001b[0m\u001b[0;34m\u001b[0m\u001b[0;34m\u001b[0m\u001b[0m\n\u001b[1;32m   1441\u001b[0m         \u001b[0;32mif\u001b[0m \u001b[0mdata\u001b[0m \u001b[0;32mis\u001b[0m \u001b[0;32mNone\u001b[0m\u001b[0;34m:\u001b[0m\u001b[0;34m\u001b[0m\u001b[0;34m\u001b[0m\u001b[0m\n\u001b[0;32m-> 1442\u001b[0;31m             \u001b[0;32mreturn\u001b[0m \u001b[0mfunc\u001b[0m\u001b[0;34m(\u001b[0m\u001b[0max\u001b[0m\u001b[0;34m,\u001b[0m \u001b[0;34m*\u001b[0m\u001b[0mmap\u001b[0m\u001b[0;34m(\u001b[0m\u001b[0msanitize_sequence\u001b[0m\u001b[0;34m,\u001b[0m \u001b[0margs\u001b[0m\u001b[0;34m)\u001b[0m\u001b[0;34m,\u001b[0m \u001b[0;34m**\u001b[0m\u001b[0mkwargs\u001b[0m\u001b[0;34m)\u001b[0m\u001b[0;34m\u001b[0m\u001b[0;34m\u001b[0m\u001b[0m\n\u001b[0m\u001b[1;32m   1443\u001b[0m \u001b[0;34m\u001b[0m\u001b[0m\n\u001b[1;32m   1444\u001b[0m         \u001b[0mbound\u001b[0m \u001b[0;34m=\u001b[0m \u001b[0mnew_sig\u001b[0m\u001b[0;34m.\u001b[0m\u001b[0mbind\u001b[0m\u001b[0;34m(\u001b[0m\u001b[0max\u001b[0m\u001b[0;34m,\u001b[0m \u001b[0;34m*\u001b[0m\u001b[0margs\u001b[0m\u001b[0;34m,\u001b[0m \u001b[0;34m**\u001b[0m\u001b[0mkwargs\u001b[0m\u001b[0;34m)\u001b[0m\u001b[0;34m\u001b[0m\u001b[0;34m\u001b[0m\u001b[0m\n",
            "\u001b[0;32m/usr/local/lib/python3.10/dist-packages/matplotlib/axes/_axes.py\u001b[0m in \u001b[0;36mimshow\u001b[0;34m(self, X, cmap, norm, aspect, interpolation, alpha, vmin, vmax, origin, extent, interpolation_stage, filternorm, filterrad, resample, url, **kwargs)\u001b[0m\n\u001b[1;32m   5663\u001b[0m                               **kwargs)\n\u001b[1;32m   5664\u001b[0m \u001b[0;34m\u001b[0m\u001b[0m\n\u001b[0;32m-> 5665\u001b[0;31m         \u001b[0mim\u001b[0m\u001b[0;34m.\u001b[0m\u001b[0mset_data\u001b[0m\u001b[0;34m(\u001b[0m\u001b[0mX\u001b[0m\u001b[0;34m)\u001b[0m\u001b[0;34m\u001b[0m\u001b[0;34m\u001b[0m\u001b[0m\n\u001b[0m\u001b[1;32m   5666\u001b[0m         \u001b[0mim\u001b[0m\u001b[0;34m.\u001b[0m\u001b[0mset_alpha\u001b[0m\u001b[0;34m(\u001b[0m\u001b[0malpha\u001b[0m\u001b[0;34m)\u001b[0m\u001b[0;34m\u001b[0m\u001b[0;34m\u001b[0m\u001b[0m\n\u001b[1;32m   5667\u001b[0m         \u001b[0;32mif\u001b[0m \u001b[0mim\u001b[0m\u001b[0;34m.\u001b[0m\u001b[0mget_clip_path\u001b[0m\u001b[0;34m(\u001b[0m\u001b[0;34m)\u001b[0m \u001b[0;32mis\u001b[0m \u001b[0;32mNone\u001b[0m\u001b[0;34m:\u001b[0m\u001b[0;34m\u001b[0m\u001b[0;34m\u001b[0m\u001b[0m\n",
            "\u001b[0;32m/usr/local/lib/python3.10/dist-packages/matplotlib/image.py\u001b[0m in \u001b[0;36mset_data\u001b[0;34m(self, A)\u001b[0m\n\u001b[1;32m    699\u001b[0m         if (self._A.dtype != np.uint8 and\n\u001b[1;32m    700\u001b[0m                 not np.can_cast(self._A.dtype, float, \"same_kind\")):\n\u001b[0;32m--> 701\u001b[0;31m             raise TypeError(\"Image data of dtype {} cannot be converted to \"\n\u001b[0m\u001b[1;32m    702\u001b[0m                             \"float\".format(self._A.dtype))\n\u001b[1;32m    703\u001b[0m \u001b[0;34m\u001b[0m\u001b[0m\n",
            "\u001b[0;31mTypeError\u001b[0m: Image data of dtype object cannot be converted to float"
          ]
        },
        {
          "output_type": "display_data",
          "data": {
            "text/plain": [
              "<Figure size 640x480 with 1 Axes>"
            ],
            "image/png": "[encoded data removed]"
          },
          "metadata": {}
        }
      ]
    }
  ]
}