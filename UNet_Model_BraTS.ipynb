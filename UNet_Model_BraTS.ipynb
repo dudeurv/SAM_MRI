{
  "cells": [
    {
      "cell_type": "markdown",
      "metadata": {
        "id": "view-in-github",
        "colab_type": "text"
      },
      "source": [
        "<a href=\"https://colab.research.google.com/github/dudeurv/SAM_MRI/blob/main/UNet_Model_BraTS.ipynb\" target=\"_parent\"><img src=\"https://colab.research.google.com/assets/colab-badge.svg\" alt=\"Open In Colab\"/></a>"
      ]
    },
    {
      "cell_type": "markdown",
      "metadata": {
        "id": "6XRxHiKdGHiT"
      },
      "source": [
        "# Medical Image Segmentation with U-NET\n"
      ]
    },
    {
      "cell_type": "code",
      "execution_count": 1,
      "metadata": {
        "id": "Eq1KWmR3HWYV"
      },
      "outputs": [],
      "source": [
        "# Import libraries\n",
        "import tarfile\n",
        "import re\n",
        "import imageio.v2 as iio\n",
        "import torch\n",
        "import torch.nn as nn\n",
        "import torch.nn.functional as F\n",
        "import torch.optim as optim\n",
        "from torch.utils.data import Dataset\n",
        "import numpy as np\n",
        "import time\n",
        "import os\n",
        "import random\n",
        "import matplotlib.pyplot as plt\n",
        "from matplotlib import colors\n",
        "import scipy.ndimage\n",
        "import textwrap"
      ]
    },
    {
      "cell_type": "markdown",
      "metadata": {
        "id": "w4TX-CXBHW4c"
      },
      "source": [
        "## Download the imaging dataset\n"
      ]
    },
    {
      "cell_type": "code",
      "execution_count": 2,
      "metadata": {
        "colab": {
          "base_uri": "https://localhost:8080/"
        },
        "id": "mt93oQ8xZkE9",
        "outputId": "5c08f631-1692-4da8-afb0-aee564a5a717"
      },
      "outputs": [
        {
          "output_type": "stream",
          "name": "stdout",
          "text": [
            "Downloading...\n",
            "From: https://drive.google.com/uc?id=1nHZWlCBpudbT4zzPyqyu2Vi5uILcxSrv\n",
            "To: /content/Slices.zip\n",
            "100% 56.1M/56.1M [00:00<00:00, 227MB/s]\n"
          ]
        }
      ],
      "source": [
        "!gdown https://drive.google.com/uc?id=1nHZWlCBpudbT4zzPyqyu2Vi5uILcxSrv\n",
        "\n",
        "# Assuming the downloaded file is a ZIP file and its name is 'downloaded_data.zip'\n",
        "import zipfile\n",
        "with zipfile.ZipFile('Slices.zip', 'r') as zip_ref:\n",
        "    zip_ref.extractall()\n"
      ]
    },
    {
      "cell_type": "markdown",
      "metadata": {
        "id": "5xWGT3KaML-D"
      },
      "source": [
        "# Implement a dataset class\n",
        "\n",
        "It can read the imaging dataset and get items, pairs of images and label maps, as training batches."
      ]
    },
    {
      "cell_type": "code",
      "source": [
        "# Import necessary libraries\n",
        "from torch.utils.data import Dataset, DataLoader  # PyTorch classes for handling datasets and data loading\n",
        "from glob import glob                            # For file path pattern matching\n",
        "import imageio.v2 as iio\n",
        "import matplotlib.pyplot as plt\n",
        "import numpy as np\n",
        "\n",
        "def normalise_intensity(image, ROI_thres=0.1):\n",
        "    pixel_thres = np.percentile(image, ROI_thres)\n",
        "    ROI = np.where(image > pixel_thres, image, 0) # If image value is greater than pixel threshold, return image value, otherwise return 0\n",
        "    mean = np.mean(ROI)\n",
        "    std = np.std(ROI)\n",
        "    ROI_norm = (ROI - mean) / (std + 1e-8) # Normalise ROI\n",
        "    return ROI_norm\n",
        "\n",
        "def map_labels(label):\n",
        "    label_map = {0: 0, 85: 1, 170: 2, 255: 3}\n",
        "    mapped_label = label.copy()\n",
        "    for k, v in label_map.items():\n",
        "        mapped_label[label == k] = v\n",
        "    return mapped_label\n",
        "\n",
        "# Define a custom dataset class for the Brats dataset\n",
        "class BratsDataset(Dataset):\n",
        "    # Initialization method of the class\n",
        "    def __init__(self, root='brats_train'):\n",
        "        # Get all image file paths using glob\n",
        "        self.img_path_all = glob(root + '/BraTS-GLI-t1c/*.png')\n",
        "        # Get the corresponding mask file paths by replacing 't1c' with 'seg' in the image paths\n",
        "        self.mask_path_all = [img_path.replace('t1c', 'seg') for img_path in self.img_path_all]\n",
        "\n",
        "    # Method to return the length of the dataset\n",
        "    def __len__(self):\n",
        "        return len(self.img_path_all)\n",
        "\n",
        "    # Method to get an item from the dataset\n",
        "    def __getitem__(self, index):\n",
        "        # Read the image at the given index\n",
        "        image = iio.imread(self.img_path_all[index])\n",
        "        # Normalize the intensity of the image\n",
        "        image = normalise_intensity(image)\n",
        "        # Read the label (mask) corresponding to the image\n",
        "        label = iio.imread(self.mask_path_all[index])\n",
        "        # Map the label values to class indices\n",
        "        label = map_labels(label)\n",
        "        return image, label\n",
        "\n",
        "# Create instances of the dataset for training and testing\n",
        "train_dataset = BratsDataset(root='Slices/Train')\n",
        "test_dataset = BratsDataset(root='Slices/Test')\n",
        "\n",
        "# Print the number of samples in the training and testing datasets\n",
        "print('Train Sample:', len(train_dataset), 'Test Sample:', len(test_dataset))\n",
        "\n",
        "# Fetch a sample from the test dataset and visualize it\n",
        "input, label = test_dataset[3]\n",
        "plt.subplot(1,2,1), plt.axis('OFF'), plt.title('input:{}'.format(input.shape)), plt.imshow(input, cmap='gray')\n",
        "plt.subplot(1,2,2), plt.axis('OFF'), plt.title('label:{}'.format(label.shape)), plt.imshow(label, cmap='gray');"
      ],
      "metadata": {
        "colab": {
          "base_uri": "https://localhost:8080/",
          "height": 302
        },
        "id": "ntQ8eO6iJlSz",
        "outputId": "22ccaddb-00c6-4495-9eb9-60f666955489"
      },
      "execution_count": 3,
      "outputs": [
        {
          "output_type": "stream",
          "name": "stdout",
          "text": [
            "Train Sample: 1395 Test Sample: 310\n"
          ]
        },
        {
          "output_type": "display_data",
          "data": {
            "text/plain": [
              "<Figure size 640x480 with 2 Axes>"
            ],
            "image/png": "[encoded data removed]"
          },
          "metadata": {}
        }
      ]
    },
    {
      "cell_type": "markdown",
      "metadata": {
        "id": "pa4ZpawDNmwu"
      },
      "source": [
        "# Build a U-net architecture\n",
        "\n",
        "You will implement a U-net architecture. If you are not familiar with U-net, please read this paper:\n",
        "\n",
        "[1] Olaf Ronneberger et al. [U-Net: Convolutional networks for biomedical image segmentation](https://link.springer.com/chapter/10.1007/978-3-319-24574-4_28). MICCAI, 2015.\n"
      ]
    },
    {
      "cell_type": "code",
      "execution_count": 4,
      "metadata": {
        "id": "SOcyhyR7Cd6u"
      },
      "outputs": [],
      "source": [
        "class conv_block(nn.Module):\n",
        "  def __init__(self, in_channels, out_channels, stride=1):\n",
        "    super().__init__()\n",
        "    # Convolution layer, a ReLU activation to add non-linearity, and Batch Normalisation\n",
        "    # Bias is set as false, as Batch Normalisation would remove the bias\n",
        "    self.conv = nn.Sequential(\n",
        "        nn.Conv2d(in_channels, out_channels, kernel_size=3, stride=stride, padding=1),\n",
        "        nn.BatchNorm2d(out_channels),\n",
        "        nn.ReLU()\n",
        "    )\n",
        "  def forward(self, x):\n",
        "    return self.conv(x)\n",
        "\n",
        "class UNet(nn.Module):\n",
        "  # U-Net Model involves an encoder, a bottleneck and decoder section\n",
        "  def __init__(self, num_classes=4):\n",
        "    super().__init__()\n",
        "    # Encoder with 4 blocks of Double_Convolution layers\n",
        "    # Includes 4 sets of max pooling operations with kernel 2x2 and stride 2 for downsampling\n",
        "    self.down_1 = nn.Sequential(\n",
        "        conv_block(1, 16),\n",
        "        conv_block(16, 16),\n",
        "    )\n",
        "    self.down_2 = nn.Sequential(\n",
        "        conv_block(16, 32, 2),\n",
        "        conv_block(32, 32),\n",
        "    )\n",
        "    self.down_3 = nn.Sequential(\n",
        "        conv_block(32, 64, 2),\n",
        "        conv_block(64, 64),\n",
        "    )\n",
        "    # Bottleneck\n",
        "    # Includes a Double Convolution layer followed by upsampling with ConvTranspose2d\n",
        "    self.bottle = nn.Sequential(\n",
        "        conv_block(64, 128, 2),\n",
        "        conv_block(128, 128),\n",
        "        nn.ConvTranspose2d(128, 64, kernel_size=3, stride=2, padding=1, output_padding=1)\n",
        "    )\n",
        "\n",
        "    # Decoder\n",
        "    # Concatinating with skip connections causes feature channels to double\n",
        "    # Double_Convolution and ConvTranspose2d each causes feature channels to halve\n",
        "    self.up_1 = nn.Sequential(\n",
        "        conv_block(128, 64),\n",
        "        conv_block(64, 64),\n",
        "        nn.ConvTranspose2d(64, 32, kernel_size=3, stride=2, padding=1, output_padding=1)\n",
        "    )\n",
        "    self.up_2 = nn.Sequential(\n",
        "        conv_block(64, 32),\n",
        "        conv_block(32, 32),\n",
        "        nn.ConvTranspose2d(32, 16, kernel_size=3, stride=2, padding=1, output_padding=1)\n",
        "    )\n",
        "    # Final Output Layer\n",
        "    self.out = nn.Sequential(\n",
        "        conv_block(32, 16),\n",
        "        conv_block(16, 16),\n",
        "        nn.Conv2d(16, 4, kernel_size=1, padding=0)\n",
        "    )\n",
        "\n",
        "  def forward(self, x):\n",
        "      # Use the convolutional operators defined above to build the U-net\n",
        "      # Encoder\n",
        "      x1 = self.down_1(x)\n",
        "      x2 = self.down_2(x1)\n",
        "      x3 = self.down_3(x2)\n",
        "\n",
        "      x4 = self.bottle(x3)\n",
        "\n",
        "      # Decoder\n",
        "      ### Insert your code ###\n",
        "      x5 = torch.cat((x4, x3), dim=1)\n",
        "      x6 = self.up_1(x5)\n",
        "      x7 = torch.cat((x6, x2), dim=1)\n",
        "      x8 = self.up_2(x7)\n",
        "      x9 = torch.cat((x8, x1), dim=1)\n",
        "      x10 = self.out(x9)\n",
        "      return x10\n"
      ]
    },
    {
      "cell_type": "code",
      "source": [
        "# Import necessary libraries for the deep learning model\n",
        "import torch\n",
        "import torch.optim as optim\n",
        "import torch.nn as nn\n",
        "from torch.utils.data import DataLoader\n",
        "\n",
        "# Define the training function for a single epoch\n",
        "def train_per_epoch(model, trainloader, loss_fn, optimizer):\n",
        "    model.train()  # Set the model to training mode (affects layers like dropout, batchnorm, etc.)\n",
        "    loss_per_epoch = []  # Initialize a list to store loss values for each batch\n",
        "\n",
        "    # Loop over each batch in the training loader\n",
        "    for batch_idx, (images, labels) in enumerate(trainloader):\n",
        "        # Move the images and labels to the defined device (GPU/CPU) and set appropriate data types\n",
        "        images, labels = images.unsqueeze(1).to(device, dtype=torch.float32), labels.to(device, dtype=torch.long)\n",
        "\n",
        "        # Forward pass: compute the predicted labels by passing images to the model\n",
        "        logits = model(images)\n",
        "\n",
        "        optimizer.zero_grad()  # Zero out any existing gradients in the optimizer\n",
        "        loss = loss_fn(logits, labels)  # Compute the loss between predictions and true labels\n",
        "        loss.backward()  # Perform backpropagation to calculate gradients\n",
        "        optimizer.step()  # Update the model parameters based on the gradients\n",
        "        loss_per_epoch.append(loss.item())  # Append the current batch loss to the list\n",
        "\n",
        "    # Calculate and return the average loss for the epoch\n",
        "    return torch.tensor(loss_per_epoch).mean().item()\n",
        "\n",
        "# Define the testing function for a single epoch\n",
        "def test_per_epoch(model, testloader, loss_fn, optimizer):\n",
        "    model.eval()  # Set the model to evaluation mode\n",
        "    loss_per_epoch = []  # Initialize a list to store loss values for each batch\n",
        "\n",
        "    # Disable gradient calculations for efficiency during testing\n",
        "    with torch.no_grad():\n",
        "        # Loop over each batch in the testing loader\n",
        "        for batch_idx, (images, labels) in enumerate(testloader):\n",
        "            # Move the images and labels to the defined device and set appropriate data types\n",
        "            images, labels = images.unsqueeze(1).to(device, dtype=torch.float32), labels.to(device, dtype=torch.long)\n",
        "\n",
        "            # Forward pass: compute the predicted labels by passing images to the model\n",
        "            logits = model(images)\n",
        "\n",
        "            # Compute the loss and append to the list\n",
        "            loss = loss_fn(logits, labels)\n",
        "            loss_per_epoch.append(loss.item())\n",
        "\n",
        "    # Calculate and return the average loss for the epoch\n",
        "    return torch.tensor(loss_per_epoch).mean().item()\n",
        "\n",
        "# Determine if a CUDA GPU is available for training, otherwise use the CPU\n",
        "device = 'cuda' if torch.cuda.is_available() else 'cpu'\n",
        "\n",
        "# Define key model parameters\n",
        "num_classes = 4  # Number of classes for segmentation\n",
        "model = UNet(num_classes=num_classes)  # Initialize the U-Net model with the number of classes\n",
        "model = model.to(device)  # Move the model to the defined device\n",
        "\n",
        "# Define key training parameters\n",
        "epochs = 120  # Total number of training epochs\n",
        "train_batch_size = 25  # Batch size for training\n",
        "eval_batch_size = 300  # Batch size for evaluation/testing\n",
        "\n",
        "# Create instances of the dataset for training and testing\n",
        "train_dataset = BratsDataset(root='Slices/Train')\n",
        "test_dataset = BratsDataset(root='Slices/Test')\n",
        "\n",
        "# Define a directory to save model states\n",
        "model_dir = 'saved_models'\n",
        "os.makedirs(model_dir, exist_ok=True)  # Create the directory if it doesn't exist\n",
        "\n",
        "# Define the optimizer and loss function for training\n",
        "optimizer = optim.Adam(model.parameters(), lr=1e-3)  # Optimizer (Adam) with a learning rate of 0.001\n",
        "loss_fn = nn.CrossEntropyLoss(ignore_index=128)  # Loss function (Cross-Entropy Loss)\n",
        "\n",
        "# Create data loaders for training and testing datasets\n",
        "train_loader = DataLoader(train_dataset, batch_size=train_batch_size, shuffle=True, num_workers=2)\n",
        "test_loader = DataLoader(test_dataset, batch_size=eval_batch_size, shuffle=False, num_workers=2)\n",
        "\n",
        "# Print basic information about the training setup\n",
        "print('Training on:', device, 'train sample size:', len(train_dataset), 'test sample size:', len(test_dataset))\n",
        "\n",
        "# Initialize variables to track the best model performance\n",
        "best_epoch, best_loss = 0.0, np.inf\n",
        "\n",
        "# Training loop for the specified number of epochs\n",
        "for epoch in range(epochs):\n",
        "    # Perform training and testing for the current epoch\n",
        "    loss_training = train_per_epoch(model, train_loader, loss_fn, optimizer)\n",
        "    loss_testing = test_per_epoch(model, test_loader, loss_fn, optimizer)\n",
        "\n",
        "    # Check if the current model's performance is the best so far\n",
        "    if loss_testing < best_loss:\n",
        "        best_loss = loss_testing  # Update the best loss\n",
        "        best_epoch = epoch  # Update the best epoch\n",
        "        # Save the model state\n",
        "        torch.save(model.state_dict(), os.path.join(model_dir, 'model_best.pt'))\n",
        "\n",
        "    # Print the training and testing loss for the current epoch\n",
        "    print(f'--- Epoch {epoch}/{epochs}: Training loss = {loss_training:.4f}, Testing loss = {loss_testing:.4f}, Best loss = {best_loss:.4f}, Best epoch = {best_epoch} ')"
      ],
      "metadata": {
        "colab": {
          "base_uri": "https://localhost:8080/"
        },
        "id": "SURlc6IAX4KB",
        "outputId": "e5f2c6d0-f2a8-48c6-94b7-8bf31710ac84"
      },
      "execution_count": null,
      "outputs": [
        {
          "output_type": "stream",
          "name": "stdout",
          "text": [
            "Training on: cuda train sample size: 1395 test sample size: 310\n",
            "--- Epoch 0/120: Training loss = 0.7602, Testing loss = 0.5250, Best loss = 0.5250, Best epoch = 0 \n",
            "--- Epoch 1/120: Training loss = 0.3639, Testing loss = 0.2726, Best loss = 0.2726, Best epoch = 1 \n",
            "--- Epoch 2/120: Training loss = 0.1905, Testing loss = 0.1637, Best loss = 0.1637, Best epoch = 2 \n",
            "--- Epoch 3/120: Training loss = 0.1161, Testing loss = 0.1139, Best loss = 0.1139, Best epoch = 3 \n",
            "--- Epoch 4/120: Training loss = 0.0841, Testing loss = 0.0986, Best loss = 0.0986, Best epoch = 4 \n",
            "--- Epoch 5/120: Training loss = 0.0673, Testing loss = 0.0865, Best loss = 0.0865, Best epoch = 5 \n",
            "--- Epoch 6/120: Training loss = 0.0569, Testing loss = 0.0827, Best loss = 0.0827, Best epoch = 6 \n",
            "--- Epoch 7/120: Training loss = 0.0485, Testing loss = 0.0710, Best loss = 0.0710, Best epoch = 7 \n",
            "--- Epoch 8/120: Training loss = 0.0427, Testing loss = 0.0746, Best loss = 0.0710, Best epoch = 7 \n"
          ]
        }
      ]
    },
    {
      "cell_type": "markdown",
      "source": [
        "Evaluation:"
      ],
      "metadata": {
        "id": "U-cdLImmHUJg"
      }
    },
    {
      "cell_type": "code",
      "source": [
        "pip install torchmetrics"
      ],
      "metadata": {
        "colab": {
          "base_uri": "https://localhost:8080/"
        },
        "id": "hDCLWLEgZih1",
        "outputId": "fd88c7db-d8db-42b8-ff70-defdd09fdba5"
      },
      "execution_count": 8,
      "outputs": [
        {
          "output_type": "stream",
          "name": "stdout",
          "text": [
            "Collecting torchmetrics\n",
            "  Downloading torchmetrics-1.2.1-py3-none-any.whl (806 kB)\n",
            "\u001b[2K     \u001b[90m━━━━━━━━━━━━━━━━━━━━━━━━━━━━━━━━━━━━━━━━\u001b[0m \u001b[32m806.1/806.1 kB\u001b[0m \u001b[31m9.6 MB/s\u001b[0m eta \u001b[36m0:00:00\u001b[0m\n",
            "\u001b[?25hRequirement already satisfied: numpy>1.20.0 in /usr/local/lib/python3.10/dist-packages (from torchmetrics) (1.23.5)\n",
            "Requirement already satisfied: packaging>17.1 in /usr/local/lib/python3.10/dist-packages (from torchmetrics) (23.2)\n",
            "Requirement already satisfied: torch>=1.8.1 in /usr/local/lib/python3.10/dist-packages (from torchmetrics) (2.1.0+cu118)\n",
            "Collecting lightning-utilities>=0.8.0 (from torchmetrics)\n",
            "  Downloading lightning_utilities-0.10.0-py3-none-any.whl (24 kB)\n",
            "Requirement already satisfied: setuptools in /usr/local/lib/python3.10/dist-packages (from lightning-utilities>=0.8.0->torchmetrics) (67.7.2)\n",
            "Requirement already satisfied: typing-extensions in /usr/local/lib/python3.10/dist-packages (from lightning-utilities>=0.8.0->torchmetrics) (4.5.0)\n",
            "Requirement already satisfied: filelock in /usr/local/lib/python3.10/dist-packages (from torch>=1.8.1->torchmetrics) (3.13.1)\n",
            "Requirement already satisfied: sympy in /usr/local/lib/python3.10/dist-packages (from torch>=1.8.1->torchmetrics) (1.12)\n",
            "Requirement already satisfied: networkx in /usr/local/lib/python3.10/dist-packages (from torch>=1.8.1->torchmetrics) (3.2.1)\n",
            "Requirement already satisfied: jinja2 in /usr/local/lib/python3.10/dist-packages (from torch>=1.8.1->torchmetrics) (3.1.2)\n",
            "Requirement already satisfied: fsspec in /usr/local/lib/python3.10/dist-packages (from torch>=1.8.1->torchmetrics) (2023.6.0)\n",
            "Requirement already satisfied: triton==2.1.0 in /usr/local/lib/python3.10/dist-packages (from torch>=1.8.1->torchmetrics) (2.1.0)\n",
            "Requirement already satisfied: MarkupSafe>=2.0 in /usr/local/lib/python3.10/dist-packages (from jinja2->torch>=1.8.1->torchmetrics) (2.1.3)\n",
            "Requirement already satisfied: mpmath>=0.19 in /usr/local/lib/python3.10/dist-packages (from sympy->torch>=1.8.1->torchmetrics) (1.3.0)\n",
            "Installing collected packages: lightning-utilities, torchmetrics\n",
            "Successfully installed lightning-utilities-0.10.0 torchmetrics-1.2.1\n"
          ]
        }
      ]
    },
    {
      "cell_type": "code",
      "source": [
        "# Import necessary libraries for metrics and visualization\n",
        "from torchmetrics import Dice\n",
        "import matplotlib.pyplot as plt\n",
        "import numpy as np\n",
        "from torch.utils.data import DataLoader\n",
        "import torch\n",
        "import torch.nn.functional as F\n",
        "\n",
        "# Define a function to calculate the confusion matrix from predictions and ground truths\n",
        "def calculate_confusion_matrix_from_arrays(prediction, ground_truth, nr_labels):\n",
        "    # Stack the ground truth and prediction arrays and transpose\n",
        "    replace_indices = np.vstack((\n",
        "        ground_truth.flatten(),\n",
        "        prediction.flatten())\n",
        "    ).T\n",
        "    # Compute the confusion matrix using histogram\n",
        "    confusion_matrix, _ = np.histogramdd(\n",
        "        replace_indices,\n",
        "        bins=(nr_labels, nr_labels),  # Number of bins for each dimension (nr_labels)\n",
        "        range=[(0, nr_labels), (0, nr_labels)]  # Range of labels\n",
        "    )\n",
        "    # Convert the confusion matrix to uint32 for consistency\n",
        "    confusion_matrix = confusion_matrix.astype(np.uint32)\n",
        "    return confusion_matrix\n",
        "\n",
        "# Define a function to calculate the Dice coefficient from the confusion matrix\n",
        "def calculate_dice(confusion_matrix):\n",
        "    dices = []  # Initialize a list to store Dice scores for each class\n",
        "    # Iterate over each class to calculate Dice score\n",
        "    for index in range(confusion_matrix.shape[0]):\n",
        "        true_positives = confusion_matrix[index, index]  # Diagonal elements are true positives\n",
        "        false_positives = confusion_matrix[:, index].sum() - true_positives\n",
        "        false_negatives = confusion_matrix[index, :].sum() - true_positives\n",
        "        denom = 2 * true_positives + false_positives + false_negatives\n",
        "        # Handle the case where denominator is zero\n",
        "        if denom == 0:\n",
        "            dice = 0\n",
        "        else:\n",
        "            dice = 2 * float(true_positives) / denom\n",
        "        dices.append(dice)  # Append the Dice score for the current class\n",
        "    return dices\n",
        "\n",
        "# Define a function to test the model for an epoch and visualize the results\n",
        "def test_per_epoch(model, testloader):\n",
        "    model.eval()  # Set the model to evaluation mode\n",
        "    # Setup the plot for visualization\n",
        "    fig, axs = plt.subplots(len(testloader), 3, figsize=(1*3, len(testloader)*1), subplot_kw=dict(xticks=[],yticks=[]))\n",
        "    # Initialize an empty confusion matrix\n",
        "    confusion_matrix = np.zeros((num_classes, num_classes), dtype=np.uint32)\n",
        "\n",
        "    with torch.no_grad():\n",
        "        # Iterate over the testloader\n",
        "        for batch_idx, (images, labels) in enumerate(testloader):\n",
        "            # Prepare images and labels for model input\n",
        "            images, labels = images.unsqueeze(1).to(device, dtype=torch.float32), labels.to(device, dtype=torch.long)\n",
        "            # Forward pass through the model to get logits\n",
        "            logits = model(images)\n",
        "            # Apply softmax to get probabilities and then get the predicted segmentation\n",
        "            prob = F.softmax(logits, dim=1)\n",
        "            pred_seg = torch.argmax(prob, dim=1)\n",
        "            # Update the confusion matrix with predictions\n",
        "            confusion_matrix += calculate_confusion_matrix_from_arrays(pred_seg.cpu(), labels.cpu(), num_classes)\n",
        "            # Visualize the input image, ground truth, and prediction\n",
        "            img_num = 0\n",
        "            axs[batch_idx, 0].imshow(images[img_num, 0].cpu().numpy(), cmap='gray')\n",
        "            axs[batch_idx, 1].imshow(labels[img_num].cpu().numpy(), cmap='gray')\n",
        "            axs[batch_idx, 2].imshow(pred_seg[img_num].cpu().numpy(), cmap='gray')\n",
        "\n",
        "    # Exclude the background from the confusion matrix for Dice calculation\n",
        "    confusion_matrix = confusion_matrix[1:, 1:]\n",
        "    # Calculate Dice scores per class\n",
        "    dices_per_class = {'dice_cls:{}'.format(cls + 1): dice\n",
        "                for cls, dice in enumerate(calculate_dice(confusion_matrix))}\n",
        "\n",
        "    # Adjust plot layout and display\n",
        "    plt.axis('OFF')\n",
        "    plt.tight_layout()\n",
        "    plt.show()\n",
        "    return dices_per_class\n",
        "\n",
        "# Set the number of classes for segmentation\n",
        "num_classes = 4\n",
        "# Initialize the U-Net model and load the best saved weights\n",
        "model = UNet(num_classes=num_classes).to(device)\n",
        "model.load_state_dict(torch.load('/content/saved_models/model_best.pt'))\n",
        "\n",
        "# Define evaluation batch size and create a DataLoader for the test set\n",
        "eval_batch_size = 80\n",
        "print('Test Sample:', len(test_dataset))\n",
        "test_loader = DataLoader(test_dataset, batch_size=eval_batch_size, shuffle=False, num_workers=2)\n",
        "\n",
        "# Perform testing and calculate class-wise and overall Dice scores\n",
        "dices_per_class = test_per_epoch(model, test_loader)\n",
        "dices_per_class_list = np.array(list(dices_per_class.values()))\n",
        "print('Class Wise Dice:', dices_per_class)\n",
        "print('Overall Dice:', np.mean(dices_per_class_list))"
      ],
      "metadata": {
        "id": "LPjsN9AUItMP",
        "colab": {
          "base_uri": "https://localhost:8080/",
          "height": 480
        },
        "outputId": "3659ae92-51a7-4d3c-8f10-d9e7b6f9008b"
      },
      "execution_count": 9,
      "outputs": [
        {
          "output_type": "stream",
          "name": "stdout",
          "text": [
            "Test Sample: 310\n"
          ]
        },
        {
          "output_type": "display_data",
          "data": {
            "text/plain": [
              "<Figure size 300x400 with 12 Axes>"
            ],
            "image/png": "[encoded data removed]"
          },
          "metadata": {}
        },
        {
          "output_type": "stream",
          "name": "stdout",
          "text": [
            "Class Wise Dice: {'dice_cls:1': 0.42232, 'dice_cls:2': 0.2659420840617162, 'dice_cls:3': 0.6863996705446309}\n",
            "Overall Dice: 0.45822058486878237\n"
          ]
        }
      ]
    }
  ],
  "metadata": {
    "accelerator": "GPU",
    "colab": {
      "provenance": [],
      "gpuType": "T4",
      "machine_shape": "hm",
      "include_colab_link": true
    },
    "kernelspec": {
      "display_name": "Python 3",
      "name": "python3"
    },
    "language_info": {
      "name": "python"
    }
  },
  "nbformat": 4,
  "nbformat_minor": 0
}