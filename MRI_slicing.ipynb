{
  "nbformat": 4,
  "nbformat_minor": 0,
  "metadata": {
    "colab": {
      "provenance": [],
      "mount_file_id": "1t1-pj6DVhzcECTDu-bjj-gkXUkGz7FRh",
      "authorship_tag": "ABX9TyNZ4XgJwZRCk4gHFGBRZXLQ",
      "include_colab_link": true
    },
    "kernelspec": {
      "name": "python3",
      "display_name": "Python 3"
    },
    "language_info": {
      "name": "python"
    }
  },
  "cells": [
    {
      "cell_type": "markdown",
      "metadata": {
        "id": "view-in-github",
        "colab_type": "text"
      },
      "source": [
        "<a href=\"https://colab.research.google.com/github/dudeurv/SAM_MRI/blob/main/MRI_slicing.ipynb\" target=\"_parent\"><img src=\"https://colab.research.google.com/assets/colab-badge.svg\" alt=\"Open In Colab\"/></a>"
      ]
    },
    {
      "cell_type": "markdown",
      "source": [
        "Install Nibabel"
      ],
      "metadata": {
        "id": "2WiK1bUXOLxH"
      }
    },
    {
      "cell_type": "code",
      "source": [
        "!pip -q install nibabel"
      ],
      "metadata": {
        "id": "nhSOYjL7OQNh"
      },
      "execution_count": null,
      "outputs": []
    },
    {
      "cell_type": "markdown",
      "source": [
        "Importing"
      ],
      "metadata": {
        "id": "AFeCh3aOMuQs"
      }
    },
    {
      "cell_type": "code",
      "source": [
        "import os\n",
        "import nibabel as nib # used for reading and writing neuroimaging data formats, including NIFTI\n",
        "import numpy as np # for operations on large arrays and matrices of numeric data.\n",
        "import matplotlib.pyplot as plt\n",
        "import cv2 # OpenCV library used for computer vision and image processing tasks"
      ],
      "metadata": {
        "id": "4VafoDvfM5Dl"
      },
      "execution_count": null,
      "outputs": []
    },
    {
      "cell_type": "code",
      "source": [
        "from google.colab import drive\n",
        "drive.mount('/content/drive')"
      ],
      "metadata": {
        "colab": {
          "base_uri": "https://localhost:8080/"
        },
        "id": "zPiQohAA_00B",
        "outputId": "c9f7b083-56c6-4209-9f96-f4f8e058380e"
      },
      "execution_count": null,
      "outputs": [
        {
          "output_type": "stream",
          "name": "stdout",
          "text": [
            "Drive already mounted at /content/drive; to attempt to forcibly remount, call drive.mount(\"/content/drive\", force_remount=True).\n"
          ]
        }
      ]
    },
    {
      "cell_type": "markdown",
      "source": [
        "BraTS"
      ],
      "metadata": {
        "id": "Qd2hOVe900GG"
      }
    },
    {
      "cell_type": "code",
      "source": [
        "def slice_nifti(input_folder: str) -> None:\n",
        "    \"\"\"\n",
        "    This function takes a folder of NIfTI MRI files, extracts 2D axial slices from each 3D volume,\n",
        "    and saves them as PNG images in a new folder.\n",
        "\n",
        "    Parameters:\n",
        "    - input_folder (str): The path to the folder containing the NIfTI files.\n",
        "    \"\"\"\n",
        "    # Define the path for the output folder\n",
        "    output_folder = f\"{input_folder}_slices\"\n",
        "\n",
        "    # Create the output folder if it doesn't exist\n",
        "    if not os.path.exists(output_folder):\n",
        "        os.makedirs(output_folder)\n",
        "\n",
        "    # Loop through all files in the input folder\n",
        "    for filename in os.listdir(input_folder):\n",
        "        # Construct full path to the NIfTI file\n",
        "        filepath = os.path.join(input_folder, filename)\n",
        "\n",
        "        # Load the NIfTI file\n",
        "        image = nib.load(filepath)\n",
        "        array = image.get_fdata()\n",
        "\n",
        "        # Determine the number of slices along the Z-axis\n",
        "        depth = array.shape[2]\n",
        "\n",
        "        # Save each slice as a PNG image\n",
        "        for z in range(depth):\n",
        "            slice = np.rot90(array[:, :, z])\n",
        "            normalized_slice = cv2.normalize(slice, None, 0, 255, cv2.NORM_MINMAX, dtype=cv2.CV_8U)\n",
        "            output_filename = os.path.join(output_folder, f\"{filename}_slice{z}.png\")\n",
        "            cv2.imwrite(output_filename, normalized_slice)\n",
        "\n",
        "    print(f\"Completed slicing. Images have been saved to {output_folder}.\")\n",
        "\n",
        "# Example usage\n",
        "if __name__ == \"__main__\":\n",
        "    folder_name = input(\"Insert folder name, e.g. train_valid/BraTS-GLI-00000-000 \")\n",
        "    slice_nifti(f\"/content/drive/MyDrive/{folder_name}\")\n"
      ],
      "metadata": {
        "id": "VDEBurVJPmnJ"
      },
      "execution_count": null,
      "outputs": []
    },
    {
      "cell_type": "markdown",
      "source": [
        "Endonasal"
      ],
      "metadata": {
        "id": "czSLpc5osG-L"
      }
    },
    {
      "cell_type": "code",
      "source": [
        "import os\n",
        "import nibabel as nib\n",
        "import numpy as np\n",
        "import cv2\n",
        "\n",
        "def slice_nifti_endonasal(input_folder: str) -> None:\n",
        "    \"\"\"\n",
        "    This function takes a folder of NIfTI MRI files, extracts 2D axial slices from each 3D volume,\n",
        "    and saves them as PNG images in a new folder.\n",
        "\n",
        "    Parameters:\n",
        "    - input_folder (str): The path to the folder containing the NIfTI folders.\n",
        "    \"\"\"\n",
        "\n",
        "    # Define patient MRI IDs and file types\n",
        "    patient_ids = [\"153\", \"155\", \"167\", \"170\", \"169\", \"154\", \"164\", \"151\", \"152\", \"066\"]\n",
        "    file_types = [\"t1c\", \"masks\"]\n",
        "\n",
        "    # Create output folders for each file type\n",
        "    output_folders = {file_type: f\"axial_{file_type}_slices\" for file_type in file_types}\n",
        "    for folder in output_folders.values():\n",
        "        if not os.path.exists(folder):\n",
        "            os.makedirs(folder)\n",
        "\n",
        "    # Loop through all folders in the input folder\n",
        "    for folder in os.listdir(input_folder):\n",
        "\n",
        "        full_folder_path = os.path.join(input_folder, folder)\n",
        "\n",
        "        print(\"Contents of \", full_folder_path, \": \", os.listdir(full_folder_path))\n",
        "\n",
        "        # Process each file in the patient folder\n",
        "        for filename in os.listdir(full_folder_path):\n",
        "            print(\"Found file:\", filename)\n",
        "            filepath = os.path.join(full_folder_path, filename)\n",
        "\n",
        "            # Determine the type of file and set the output folder\n",
        "            if \"t1c\" in filename:\n",
        "                output_folder = output_folders[\"t1c\"]\n",
        "            elif \"mask\" in filename:\n",
        "                output_folder = output_folders[\"masks\"]\n",
        "            else:\n",
        "                continue  # Skip files that don't match the pattern\n",
        "\n",
        "            image = nib.load(filepath)\n",
        "            array = image.get_fdata()\n",
        "\n",
        "            # Save each slice as a PNG image\n",
        "            for z in range(array.shape[2]):\n",
        "                slice = np.rot90(array[:, :, z])\n",
        "                normalized_slice = cv2.normalize(slice, None, 0, 255, cv2.NORM_MINMAX, dtype=cv2.CV_8U)\n",
        "                output_folder = os.path.join(\"/content/drive/MyDrive/\", output_folder)\n",
        "                output_filename = os.path.join(output_folder, f\"{folder}_slice{z}.png\")\n",
        "                cv2.imwrite(output_filename, normalized_slice)\n",
        "\n",
        "    print(f\"Completed slicing. T1c slices have been saved to {output_folders['t1c']}.\")\n",
        "    print(f\"Completed slicing. Segmentation slices have been saved to {output_folders['masks']}.\")\n",
        "\n",
        "# Example usage\n",
        "if __name__ == \"__main__\":\n",
        "    folder_path = input(\"Insert the root folder path, e.g. /content/drive/MyDrive/endonasal_mri_patients: \")\n",
        "    slice_nifti_endonasal(folder_path)"
      ],
      "metadata": {
        "colab": {
          "base_uri": "https://localhost:8080/"
        },
        "id": "Gus0hD7fDn1d",
        "outputId": "f019bf88-d3c6-4d99-f567-5d8f16c9ed05"
      },
      "execution_count": null,
      "outputs": [
        {
          "output_type": "stream",
          "name": "stdout",
          "text": [
            "Insert the root folder path, e.g. /content/drive/MyDrive/endonasal_mri_patients: /content/drive/MyDrive/endonasal_mri_patients\n",
            "Contents of  /content/drive/MyDrive/endonasal_mri_patients/mri0066 :  ['mri0066_mask.nii.gz', 'mri0066_t1c.nii.gz']\n",
            "Found file: mri0066_mask.nii.gz\n",
            "Found file: mri0066_t1c.nii.gz\n",
            "Contents of  /content/drive/MyDrive/endonasal_mri_patients/mri0152 :  ['mri0152_t1c.nii.gz', 'mri0152_mask.nii.gz']\n",
            "Found file: mri0152_t1c.nii.gz\n",
            "Found file: mri0152_mask.nii.gz\n",
            "Contents of  /content/drive/MyDrive/endonasal_mri_patients/mri0155 :  ['mri0155_t1c.nii.gz', 'mri0155_mask.nii.gz']\n",
            "Found file: mri0155_t1c.nii.gz\n",
            "Found file: mri0155_mask.nii.gz\n",
            "Contents of  /content/drive/MyDrive/endonasal_mri_patients/mri0170 :  ['mri0170_t1c.nii.gz', 'mri0170_mask.nii.gz']\n",
            "Found file: mri0170_t1c.nii.gz\n",
            "Found file: mri0170_mask.nii.gz\n",
            "Contents of  /content/drive/MyDrive/endonasal_mri_patients/mri0154 :  ['mri0154_t1c.nii.gz', 'mri0154_mask.nii.gz']\n",
            "Found file: mri0154_t1c.nii.gz\n",
            "Found file: mri0154_mask.nii.gz\n",
            "Contents of  /content/drive/MyDrive/endonasal_mri_patients/mri0153 :  ['mri0153_t1c.nii.gz', 'mri0153_mask.nii.gz']\n",
            "Found file: mri0153_t1c.nii.gz\n",
            "Found file: mri0153_mask.nii.gz\n",
            "Contents of  /content/drive/MyDrive/endonasal_mri_patients/mri0169 :  ['mri0169_t1c.nii.gz', 'mri0169_mask.nii.gz']\n",
            "Found file: mri0169_t1c.nii.gz\n",
            "Found file: mri0169_mask.nii.gz\n",
            "Contents of  /content/drive/MyDrive/endonasal_mri_patients/mri0167 :  ['mri0167_t1c.nii.gz', 'mri0167_mask.nii.gz']\n",
            "Found file: mri0167_t1c.nii.gz\n",
            "Found file: mri0167_mask.nii.gz\n",
            "Contents of  /content/drive/MyDrive/endonasal_mri_patients/mri0151 :  ['mri0151_t1c.nii.gz', 'mri0151_mask.nii.gz']\n",
            "Found file: mri0151_t1c.nii.gz\n",
            "Found file: mri0151_mask.nii.gz\n",
            "Contents of  /content/drive/MyDrive/endonasal_mri_patients/mri0164 :  ['mri0164_t1c.nii.gz', 'mri0164_mask.nii.gz']\n",
            "Found file: mri0164_t1c.nii.gz\n",
            "Found file: mri0164_mask.nii.gz\n",
            "Completed slicing. T1c slices have been saved to axial_t1c_slices.\n",
            "Completed slicing. Segmentation slices have been saved to axial_masks_slices.\n"
          ]
        }
      ]
    },
    {
      "cell_type": "code",
      "source": [
        "import shutil\n",
        "# Delete any folders if needed\n",
        "folder_path = input(\"Write a folder path, e.g. '/content/drive/MyDrive/axial_t1c_slices': \")\n",
        "shutil.rmtree(folder_path)\n",
        "print(f\"Successfully deleted folder: {folder_path}\")"
      ],
      "metadata": {
        "colab": {
          "base_uri": "https://localhost:8080/"
        },
        "id": "_v42wNR-CzjC",
        "outputId": "df1068b9-f657-44d3-9d6d-443cf5b989c7"
      },
      "execution_count": null,
      "outputs": [
        {
          "output_type": "stream",
          "name": "stdout",
          "text": [
            "Write a folder path, e.g. '/content/drive/MyDrive/axial_t1c_slices': /content/drive/MyDrive/axial_masks_slices\n",
            "Successfully deleted folder: /content/drive/MyDrive/axial_masks_slices\n"
          ]
        }
      ]
    }
  ]
}